{
 "cells": [
  {
   "cell_type": "code",
   "execution_count": 3,
   "metadata": {},
   "outputs": [],
   "source": [
    "import numpy as np\n",
    "import h5py \n",
    "import pycap\n",
    "from pandas import DataFrame"
   ]
  },
  {
   "cell_type": "code",
   "execution_count": 4,
   "metadata": {},
   "outputs": [],
   "source": [
    "# define dictionaries we'll use later\n",
    "sys_dict = {\"geometry\":    '''N  0  0   1.039\n",
    "                             N  0  0   -1.039\n",
    "                            Gh 0  0   0.0''',\n",
    "            \"basis_file\":\"test_bas.bas\",\n",
    "            \"bohr_coordinates\": \"true\",\n",
    "            \"cart_bf\": \"\"}\n",
    "cap_dict = {\n",
    "            \"cap_type\": \"box\",\n",
    "            \"cap_x\":\"2.76\",\n",
    "            \"cap_y\":\"2.76\",\n",
    "            \"cap_z\":\"4.88\",\n",
    "            \"Radial_precision\": \"14\",\n",
    "            \"angular_points\": \"110\"\n",
    "}\n",
    "es_dict = {\"method\" : \"ms-caspt2\",\n",
    "           \"molcas_output\":\"anion_reference.out\",\n",
    "           \"rassi_h5\":\"test.rassi.h5\",\n",
    "}"
   ]
  },
  {
   "cell_type": "code",
   "execution_count": 5,
   "metadata": {},
   "outputs": [],
   "source": [
    "# set up stuff for hdf5\n",
    "f = h5py.File('test.rassi.h5', 'r')\n",
    "arr = f[\"SFS_TRANSITION_DENSITIES\"]"
   ]
  },
  {
   "cell_type": "code",
   "execution_count": 6,
   "metadata": {},
   "outputs": [
    {
     "name": "stdout",
     "output_type": "stream",
     "text": [
      "Successfully read in zeroth order Hamiltonian from file:anion_reference.out\n",
      "Successfully read in densities from file:test.rassi.h5\n",
      "Calculating CAP matrix in AO basis...\n",
      "Integration time:1.980068\n",
      "-109.305208   -0.000000    0.000034    0.002097   -0.003538   -0.000063   -0.000090   -0.002080   -0.000000    0.000000\n",
      "  -0.000000 -109.305208   -0.002097    0.000034   -0.000063    0.003538   -0.002080    0.000090   -0.000000    0.000000\n",
      "   0.000034   -0.002097 -109.240716   -0.000000   -0.000050    0.027058   -0.019596    0.001166   -0.000000   -0.000000\n",
      "   0.002097    0.000034   -0.000000 -109.240716    0.027058    0.000050    0.001166    0.019596   -0.000000   -0.000000\n",
      "  -0.003538   -0.000063   -0.000050    0.027058 -109.217809    0.000000   -0.002954   -0.048141    0.000000    0.000000\n",
      "  -0.000063    0.003538    0.027058    0.000050    0.000000 -109.217809    0.048141   -0.002954   -0.000000    0.000000\n",
      "  -0.000090   -0.002080   -0.019596    0.001166   -0.002954    0.048141 -109.072142    0.000000    0.000000   -0.000000\n",
      "  -0.002080    0.000090    0.001166    0.019596   -0.048141   -0.002954    0.000000 -109.072142    0.000000    0.000000\n",
      "  -0.000000   -0.000000   -0.000000   -0.000000    0.000000   -0.000000    0.000000    0.000000 -109.029891   -0.000000\n",
      "   0.000000    0.000000   -0.000000   -0.000000    0.000000    0.000000   -0.000000    0.000000   -0.000000 -109.029892\n",
      "-4.480785e+01  4.785505e-12 -3.508359e-01 -2.187164e+01 -1.011089e+01 -1.808094e-01  2.140307e-01  4.927576e+00 -4.383338e-11  1.783320e-10\n",
      " 4.785505e-12 -4.480785e+01  2.187164e+01 -3.508359e-01 -1.808094e-01  1.011089e+01  4.927576e+00 -2.140307e-01  1.810747e-10  4.353140e-11\n",
      "-3.508359e-01  2.187164e+01 -2.246989e+01 -1.756817e-12  2.858387e-02 -1.552258e+01 -1.019857e+01  6.069928e-01 -3.123564e-10 -7.653256e-11\n",
      "-2.187164e+01 -3.508359e-01 -1.756817e-12 -2.246989e+01 -1.552258e+01 -2.858387e-02  6.069928e-01  1.019857e+01 -7.669598e-11  3.357101e-10\n",
      "-1.011089e+01 -1.808094e-01  2.858387e-02 -1.552258e+01 -1.407956e+01  1.662670e-11  7.152816e-01  1.165607e+01 -1.189733e-10  5.247713e-10\n",
      "-1.808094e-01  1.011089e+01 -1.552258e+01 -2.858387e-02  1.662670e-11 -1.407956e+01 -1.165607e+01  7.152816e-01 -6.275709e-10 -1.296527e-10\n",
      " 2.140307e-01  4.927576e+00 -1.019857e+01  6.069928e-01  7.152816e-01 -1.165607e+01 -1.154507e+01  5.558221e-12  1.490692e-09  3.941683e-10\n",
      " 4.927576e+00 -2.140307e-01  6.069928e-01  1.019857e+01  1.165607e+01  7.152816e-01  5.558221e-12 -1.154507e+01 -3.894485e-10  1.298620e-09\n",
      "-4.383338e-11  1.810747e-10 -3.123564e-10 -7.669598e-11 -1.189733e-10 -6.275709e-10  1.490692e-09 -3.894485e-10 -4.486273e+01 -8.610890e-12\n",
      " 1.783320e-10  4.353140e-11 -7.653256e-11  3.357101e-10  5.247713e-10 -1.296527e-10  3.941683e-10  1.298620e-09 -8.610890e-12 -4.486273e+01\n"
     ]
    }
   ],
   "source": [
    "# read in electronic structure data\n",
    "s = pycap.System(sys_dict)\n",
    "pc = pycap.Projected_CAP(s,cap_dict,10,\"openmolcas\")\n",
    "pc.read_data(es_dict)\n",
    "pc.compute_ao_cap()\n",
    "pc.compute_projected_cap()\n",
    "mat=pc.get_projected_cap()\n",
    "h0 = pc.get_H()\n",
    "print(DataFrame(h0).to_string(index=False, header=False))\n",
    "print(DataFrame(mat).to_string(index=False, header=False))"
   ]
  },
  {
   "cell_type": "code",
   "execution_count": 7,
   "metadata": {},
   "outputs": [
    {
     "name": "stdout",
     "output_type": "stream",
     "text": [
      "Calculating CAP matrix in AO basis...\n",
      "Integration time:2.004208\n",
      "-2.240392e+01  2.381817e-12 -1.754179e-01 -1.093582e+01 -5.055446e+00 -9.040471e-02  1.070154e-01  2.463788e+00 -2.191402e-11  8.914013e-11\n",
      " 2.381817e-12 -2.240392e+01  1.093582e+01 -1.754179e-01 -9.040471e-02  5.055446e+00  2.463788e+00 -1.070154e-01  9.055326e-11  2.178421e-11\n",
      "-1.754179e-01  1.093582e+01 -1.123495e+01 -9.177104e-13  1.429193e-02 -7.761291e+00 -5.099285e+00  3.034964e-01 -1.561429e-10 -3.824852e-11\n",
      "-1.093582e+01 -1.754179e-01 -9.177104e-13 -1.123495e+01 -7.761291e+00 -1.429193e-02  3.034964e-01  5.099285e+00 -3.841123e-11  1.678399e-10\n",
      "-5.055446e+00 -9.040471e-02  1.429193e-02 -7.761291e+00 -7.039781e+00  8.511636e-12  3.576408e-01  5.828034e+00 -5.923396e-11  2.624446e-10\n",
      "-9.040471e-02  5.055446e+00 -7.761291e+00 -1.429193e-02  8.511636e-12 -7.039781e+00 -5.828034e+00  3.576408e-01 -3.138510e-10 -6.494044e-11\n",
      " 1.070154e-01  2.463788e+00 -5.099285e+00  3.034964e-01  3.576408e-01 -5.828034e+00 -5.772536e+00  2.991163e-12  7.451675e-10  1.970558e-10\n",
      " 2.463788e+00 -1.070154e-01  3.034964e-01  5.099285e+00  5.828034e+00  3.576408e-01  2.991163e-12 -5.772536e+00 -1.946865e-10  6.496145e-10\n",
      "-2.191402e-11  9.055326e-11 -1.561429e-10 -3.841123e-11 -5.923396e-11 -3.138510e-10  7.451675e-10 -1.946865e-10 -2.243137e+01 -4.307887e-12\n",
      " 8.914013e-11  2.178421e-11 -3.824852e-11  1.678399e-10  2.624446e-10 -6.494044e-11  1.970558e-10  6.496145e-10 -4.307887e-12 -2.243137e+01\n"
     ]
    }
   ],
   "source": [
    "# pass densities as numpy arrays\n",
    "pc = pycap.Projected_CAP(s,cap_dict,10,\"openmolcas\")\n",
    "for i in range(0,10):\n",
    "    for j in range(i,10):\n",
    "        arr1 = 0.5*np.reshape(arr[i][j],(119,119))\n",
    "        pc.add_tdm(arr1,i,j)\n",
    "        if i!=j:\n",
    "            pc.add_tdm(arr1,j,i)\n",
    "pc.compute_ao_cap()\n",
    "pc.compute_projected_cap()\n",
    "mat=pc.get_projected_cap()\n",
    "print(DataFrame(mat).to_string(index=False, header=False))"
   ]
  },
  {
   "cell_type": "code",
   "execution_count": 8,
   "metadata": {},
   "outputs": [
    {
     "data": {
      "text/plain": [
       "array([[ 5.93241433e-08,  1.04099705e-05,  1.05904934e-10, ...,\n",
       "        -5.71452631e-20, -4.23680268e-21, -1.12598649e-20],\n",
       "       [ 1.04099705e-05,  1.84757871e-03,  2.70848040e-08, ...,\n",
       "         1.69732535e-18, -2.65325434e-18,  9.13685692e-19],\n",
       "       [ 1.05904934e-10,  2.70848040e-08,  5.64548371e-12, ...,\n",
       "        -8.72423507e-24, -1.70948627e-23,  4.00918962e-26],\n",
       "       ...,\n",
       "       [-5.71452631e-20,  1.69732535e-18, -8.72423507e-24, ...,\n",
       "         3.27787777e+00,  4.84506880e+00,  3.85294830e+00],\n",
       "       [-4.23680268e-21, -2.65325434e-18, -1.70948627e-23, ...,\n",
       "         4.84506880e+00,  1.25032520e+01,  1.63708802e+01],\n",
       "       [-1.12598649e-20,  9.13685692e-19,  4.00918962e-26, ...,\n",
       "         3.85294830e+00,  1.63708802e+01,  3.73719108e+01]])"
      ]
     },
     "execution_count": 8,
     "metadata": {},
     "output_type": "execute_result"
    }
   ],
   "source": [
    "pc.get_ao_cap()"
   ]
  },
  {
   "cell_type": "code",
   "execution_count": 9,
   "metadata": {},
   "outputs": [
    {
     "data": {
      "text/plain": [
       "array([[ 1.00000000e+00,  9.78455026e-07,  5.49301751e-01, ...,\n",
       "         1.44564663e-03,  0.00000000e+00,  6.38062709e-21],\n",
       "       [ 9.78455027e-07,  1.00000000e+00,  6.66996104e-01, ...,\n",
       "         1.26777757e-02,  0.00000000e+00, -5.77862070e-19],\n",
       "       [ 5.49301751e-01,  6.66996104e-01,  1.00000000e+00, ...,\n",
       "         5.20748628e-03,  0.00000000e+00, -2.56765001e-21],\n",
       "       ...,\n",
       "       [ 1.44564663e-03,  1.26777757e-02,  5.20748628e-03, ...,\n",
       "         1.00000000e+00,  0.00000000e+00,  0.00000000e+00],\n",
       "       [ 0.00000000e+00,  0.00000000e+00,  0.00000000e+00, ...,\n",
       "         0.00000000e+00,  1.00000000e+00,  0.00000000e+00],\n",
       "       [ 6.38062709e-21, -5.77862070e-19, -2.56765001e-21, ...,\n",
       "         0.00000000e+00,  0.00000000e+00,  1.00000000e+00]])"
      ]
     },
     "execution_count": 9,
     "metadata": {},
     "output_type": "execute_result"
    }
   ],
   "source": [
    "s.get_overlap_mat()"
   ]
  },
  {
   "cell_type": "code",
   "execution_count": 12,
   "metadata": {},
   "outputs": [],
   "source": [
    "import os\n",
    "import functools\n",
    "from numpy import linalg as LA\n",
    "import matplotlib.pyplot as plt\n",
    "caspt2_energy = -109.35042571\n",
    "E_0 = caspt2_energy\n",
    "au2eV= 27.2113961\n",
    "@functools.total_ordering\n",
    "class root():\n",
    "    def __init__(self, energy, eta):\n",
    "        self.eta = eta\n",
    "        self.energy = energy\n",
    "    \n",
    "    def __lt__(self, other):\n",
    "        return self.eta < other.eta\n",
    "    \n",
    "    def __eq__(self, other):\n",
    "        return self.eta == other.eta and self.eta == other.eta\n",
    "\n",
    "class trajectory():\n",
    "    def __init__(self,states,guess):\n",
    "        min=500\n",
    "        cur=-1\n",
    "        for st in states:\n",
    "            if np.absolute(st.energy-guess)<min:\n",
    "                cur=st\n",
    "                min=np.absolute(st.energy-guess)\n",
    "        self.last=cur\n",
    "        self.states=[cur]\n",
    "    \n",
    "    def add_state(self,states):\n",
    "        min=500\n",
    "        cur=-1\n",
    "        for st in states:\n",
    "            if np.absolute(st.energy-guess)<min:\n",
    "                cur=st\n",
    "                min=np.absolute(st.energy-self.last.energy)\n",
    "        self.states.append(cur)\n",
    "    \n",
    "    def get_corrections(self):\n",
    "        energies=[]\n",
    "        etas=[]\n",
    "        for st in self.states:\n",
    "            energies.append(st.energy)\n",
    "            etas.append(st.eta)\n",
    "        derivs=list(np.gradient(energies)/np.gradient(etas))\n",
    "        for i in range(0,len(self.states)):\n",
    "            self.states[i].corr_energy=self.states[i].energy-derivs[i]*self.states[i].eta"
   ]
  },
  {
   "cell_type": "code",
   "execution_count": 13,
   "metadata": {},
   "outputs": [
    {
     "data": {
      "image/png": "[encoded data removed]",
      "text/plain": [
       "<Figure size 432x288 with 1 Axes>"
      ]
     },
     "metadata": {
      "needs_background": "light"
     },
     "output_type": "display_data"
    }
   ],
   "source": [
    "H_0 = h0\n",
    "cap_mat = mat\n",
    "guess=3\n",
    "eta_list = np.linspace(0,3000,301)\n",
    "eta_list = eta_list * 1E-5\n",
    "all_roots=[]\n",
    "for i in range(0,len(eta_list)):\n",
    "    eta=eta_list[i]\n",
    "    roots=[]\n",
    "    fullH = H_0 +1.0j * eta * cap_mat\n",
    "    eigv,eigvc=LA.eig(fullH)\n",
    "    for eig in eigv:\n",
    "        E = (eig - E_0) * au2eV\n",
    "        roots.append(root(E,eta))\n",
    "        all_roots.append(root(E,eta))\n",
    "    if i==0:\n",
    "        traj=trajectory(roots,guess)\n",
    "    else:\n",
    "        traj.add_state(roots)\n",
    "re_traj = []\n",
    "im_traj = []\n",
    "energies=[]\n",
    "for root in all_roots:\n",
    "    re_traj.append(np.real(root.energy))\n",
    "    im_traj.append(np.imag(root.energy))\n",
    "    energies.append(root.energy)\n",
    "plt.plot(re_traj,im_traj,'ro')\n",
    "plt.show()"
   ]
  },
  {
   "cell_type": "code",
   "execution_count": 14,
   "metadata": {},
   "outputs": [
    {
     "data": {
      "image/png": "[encoded data removed]",
      "text/plain": [
       "<Figure size 432x288 with 1 Axes>"
      ]
     },
     "metadata": {
      "needs_background": "light"
     },
     "output_type": "display_data"
    }
   ],
   "source": [
    "#plot trajectories of interest\n",
    "traj.get_corrections()\n",
    "re_traj = []\n",
    "im_traj = []\n",
    "corr_re=[]\n",
    "corr_im=[]\n",
    "uc_energies=[]\n",
    "corr_energies=[]\n",
    "for root in traj.states:\n",
    "    uc_energies.append(root.energy)\n",
    "    re_traj.append(np.real(root.energy))\n",
    "    im_traj.append(np.imag(root.energy))\n",
    "    corr_re.append(np.real(root.corr_energy))\n",
    "    corr_im.append(np.imag(root.corr_energy))\n",
    "    corr_energies.append(root.corr_energy)\n",
    "plt.plot(re_traj,im_traj,'-ro')\n",
    "plt.plot(corr_re,corr_im,'-bo')\n",
    "plt.show()"
   ]
  },
  {
   "cell_type": "code",
   "execution_count": 15,
   "metadata": {},
   "outputs": [
    {
     "name": "stdout",
     "output_type": "stream",
     "text": [
      "converged SCF energy = -108.984230299731\n"
     ]
    },
    {
     "ename": "KeyboardInterrupt",
     "evalue": "",
     "output_type": "error",
     "traceback": [
      "\u001b[0;31m---------------------------------------------------------------------------\u001b[0m",
      "\u001b[0;31mKeyboardInterrupt\u001b[0m                         Traceback (most recent call last)",
      "\u001b[0;32m<ipython-input-15-39a14def5dd2>\u001b[0m in \u001b[0;36m<module>\u001b[0;34m\u001b[0m\n\u001b[1;32m      8\u001b[0m             )\n\u001b[1;32m      9\u001b[0m \u001b[0mmf\u001b[0m \u001b[0;34m=\u001b[0m \u001b[0mscf\u001b[0m\u001b[0;34m.\u001b[0m\u001b[0mRHF\u001b[0m\u001b[0;34m(\u001b[0m\u001b[0mmol\u001b[0m\u001b[0;34m)\u001b[0m\u001b[0;34m.\u001b[0m\u001b[0mrun\u001b[0m\u001b[0;34m(\u001b[0m\u001b[0;34m)\u001b[0m\u001b[0;34m\u001b[0m\u001b[0;34m\u001b[0m\u001b[0m\n\u001b[0;32m---> 10\u001b[0;31m \u001b[0mmyci\u001b[0m \u001b[0;34m=\u001b[0m \u001b[0mci\u001b[0m\u001b[0;34m.\u001b[0m\u001b[0mCISD\u001b[0m\u001b[0;34m(\u001b[0m\u001b[0mmf\u001b[0m\u001b[0;34m)\u001b[0m\u001b[0;34m.\u001b[0m\u001b[0mrun\u001b[0m\u001b[0;34m(\u001b[0m\u001b[0;34m)\u001b[0m\u001b[0;34m\u001b[0m\u001b[0;34m\u001b[0m\u001b[0m\n\u001b[0m\u001b[1;32m     11\u001b[0m \u001b[0mmyci\u001b[0m\u001b[0;34m.\u001b[0m\u001b[0mnroots\u001b[0m \u001b[0;34m=\u001b[0m \u001b[0;36m6\u001b[0m\u001b[0;34m\u001b[0m\u001b[0;34m\u001b[0m\u001b[0m\n\u001b[1;32m     12\u001b[0m \u001b[0mmyci\u001b[0m\u001b[0;34m.\u001b[0m\u001b[0mkernel\u001b[0m\u001b[0;34m(\u001b[0m\u001b[0;34m)\u001b[0m\u001b[0;34m\u001b[0m\u001b[0;34m\u001b[0m\u001b[0m\n",
      "\u001b[0;32m~/anaconda3/lib/python3.7/site-packages/pyscf/lib/misc.py\u001b[0m in \u001b[0;36mrun\u001b[0;34m(self, *args, **kwargs)\u001b[0m\n\u001b[1;32m    477\u001b[0m         '''\n\u001b[1;32m    478\u001b[0m         \u001b[0mself\u001b[0m\u001b[0;34m.\u001b[0m\u001b[0mset\u001b[0m\u001b[0;34m(\u001b[0m\u001b[0;34m**\u001b[0m\u001b[0mkwargs\u001b[0m\u001b[0;34m)\u001b[0m\u001b[0;34m\u001b[0m\u001b[0;34m\u001b[0m\u001b[0m\n\u001b[0;32m--> 479\u001b[0;31m         \u001b[0mself\u001b[0m\u001b[0;34m.\u001b[0m\u001b[0mkernel\u001b[0m\u001b[0;34m(\u001b[0m\u001b[0;34m*\u001b[0m\u001b[0margs\u001b[0m\u001b[0;34m)\u001b[0m\u001b[0;34m\u001b[0m\u001b[0;34m\u001b[0m\u001b[0m\n\u001b[0m\u001b[1;32m    480\u001b[0m         \u001b[0;32mreturn\u001b[0m \u001b[0mself\u001b[0m\u001b[0;34m\u001b[0m\u001b[0;34m\u001b[0m\u001b[0m\n\u001b[1;32m    481\u001b[0m \u001b[0;34m\u001b[0m\u001b[0m\n",
      "\u001b[0;32m~/anaconda3/lib/python3.7/site-packages/pyscf/ci/cisd.py\u001b[0m in \u001b[0;36mkernel\u001b[0;34m(self, ci0, eris)\u001b[0m\n\u001b[1;32m    885\u001b[0m \u001b[0;34m\u001b[0m\u001b[0m\n\u001b[1;32m    886\u001b[0m     \u001b[0;32mdef\u001b[0m \u001b[0mkernel\u001b[0m\u001b[0;34m(\u001b[0m\u001b[0mself\u001b[0m\u001b[0;34m,\u001b[0m \u001b[0mci0\u001b[0m\u001b[0;34m=\u001b[0m\u001b[0;32mNone\u001b[0m\u001b[0;34m,\u001b[0m \u001b[0meris\u001b[0m\u001b[0;34m=\u001b[0m\u001b[0;32mNone\u001b[0m\u001b[0;34m)\u001b[0m\u001b[0;34m:\u001b[0m\u001b[0;34m\u001b[0m\u001b[0;34m\u001b[0m\u001b[0m\n\u001b[0;32m--> 887\u001b[0;31m         \u001b[0;32mreturn\u001b[0m \u001b[0mself\u001b[0m\u001b[0;34m.\u001b[0m\u001b[0mcisd\u001b[0m\u001b[0;34m(\u001b[0m\u001b[0mci0\u001b[0m\u001b[0;34m,\u001b[0m \u001b[0meris\u001b[0m\u001b[0;34m)\u001b[0m\u001b[0;34m\u001b[0m\u001b[0;34m\u001b[0m\u001b[0m\n\u001b[0m\u001b[1;32m    888\u001b[0m     \u001b[0;32mdef\u001b[0m \u001b[0mcisd\u001b[0m\u001b[0;34m(\u001b[0m\u001b[0mself\u001b[0m\u001b[0;34m,\u001b[0m \u001b[0mci0\u001b[0m\u001b[0;34m=\u001b[0m\u001b[0;32mNone\u001b[0m\u001b[0;34m,\u001b[0m \u001b[0meris\u001b[0m\u001b[0;34m=\u001b[0m\u001b[0;32mNone\u001b[0m\u001b[0;34m)\u001b[0m\u001b[0;34m:\u001b[0m\u001b[0;34m\u001b[0m\u001b[0;34m\u001b[0m\u001b[0m\n\u001b[1;32m    889\u001b[0m         \u001b[0;32mif\u001b[0m \u001b[0meris\u001b[0m \u001b[0;32mis\u001b[0m \u001b[0;32mNone\u001b[0m\u001b[0;34m:\u001b[0m\u001b[0;34m\u001b[0m\u001b[0;34m\u001b[0m\u001b[0m\n",
      "\u001b[0;32m~/anaconda3/lib/python3.7/site-packages/pyscf/ci/cisd.py\u001b[0m in \u001b[0;36mcisd\u001b[0;34m(self, ci0, eris)\u001b[0m\n\u001b[1;32m    895\u001b[0m         \u001b[0mself\u001b[0m\u001b[0;34m.\u001b[0m\u001b[0mconverged\u001b[0m\u001b[0;34m,\u001b[0m \u001b[0mself\u001b[0m\u001b[0;34m.\u001b[0m\u001b[0me_corr\u001b[0m\u001b[0;34m,\u001b[0m \u001b[0mself\u001b[0m\u001b[0;34m.\u001b[0m\u001b[0mci\u001b[0m \u001b[0;34m=\u001b[0m\u001b[0;31m \u001b[0m\u001b[0;31m\\\u001b[0m\u001b[0;34m\u001b[0m\u001b[0;34m\u001b[0m\u001b[0m\n\u001b[1;32m    896\u001b[0m                 kernel(self, eris, ci0, max_cycle=self.max_cycle,\n\u001b[0;32m--> 897\u001b[0;31m                        tol=self.conv_tol, verbose=self.verbose)\n\u001b[0m\u001b[1;32m    898\u001b[0m         \u001b[0mself\u001b[0m\u001b[0;34m.\u001b[0m\u001b[0m_finalize\u001b[0m\u001b[0;34m(\u001b[0m\u001b[0;34m)\u001b[0m\u001b[0;34m\u001b[0m\u001b[0;34m\u001b[0m\u001b[0m\n\u001b[1;32m    899\u001b[0m         \u001b[0;32mreturn\u001b[0m \u001b[0mself\u001b[0m\u001b[0;34m.\u001b[0m\u001b[0me_corr\u001b[0m\u001b[0;34m,\u001b[0m \u001b[0mself\u001b[0m\u001b[0;34m.\u001b[0m\u001b[0mci\u001b[0m\u001b[0;34m\u001b[0m\u001b[0;34m\u001b[0m\u001b[0m\n",
      "\u001b[0;32m~/anaconda3/lib/python3.7/site-packages/pyscf/ci/cisd.py\u001b[0m in \u001b[0;36mkernel\u001b[0;34m(myci, eris, ci0, max_cycle, tol, verbose)\u001b[0m\n\u001b[1;32m     62\u001b[0m                                     \u001b[0mmax_cycle\u001b[0m\u001b[0;34m=\u001b[0m\u001b[0mmax_cycle\u001b[0m\u001b[0;34m,\u001b[0m \u001b[0mmax_space\u001b[0m\u001b[0;34m=\u001b[0m\u001b[0mmyci\u001b[0m\u001b[0;34m.\u001b[0m\u001b[0mmax_space\u001b[0m\u001b[0;34m,\u001b[0m\u001b[0;34m\u001b[0m\u001b[0;34m\u001b[0m\u001b[0m\n\u001b[1;32m     63\u001b[0m                                     \u001b[0mlindep\u001b[0m\u001b[0;34m=\u001b[0m\u001b[0mmyci\u001b[0m\u001b[0;34m.\u001b[0m\u001b[0mlindep\u001b[0m\u001b[0;34m,\u001b[0m \u001b[0mdot\u001b[0m\u001b[0;34m=\u001b[0m\u001b[0mcisd_dot\u001b[0m\u001b[0;34m,\u001b[0m\u001b[0;34m\u001b[0m\u001b[0;34m\u001b[0m\u001b[0m\n\u001b[0;32m---> 64\u001b[0;31m                                     nroots=myci.nroots, verbose=log)\n\u001b[0m\u001b[1;32m     65\u001b[0m     \u001b[0;32mif\u001b[0m \u001b[0mmyci\u001b[0m\u001b[0;34m.\u001b[0m\u001b[0mnroots\u001b[0m \u001b[0;34m==\u001b[0m \u001b[0;36m1\u001b[0m\u001b[0;34m:\u001b[0m\u001b[0;34m\u001b[0m\u001b[0;34m\u001b[0m\u001b[0m\n\u001b[1;32m     66\u001b[0m         \u001b[0mconv\u001b[0m \u001b[0;34m=\u001b[0m \u001b[0mconv\u001b[0m\u001b[0;34m[\u001b[0m\u001b[0;36m0\u001b[0m\u001b[0;34m]\u001b[0m\u001b[0;34m\u001b[0m\u001b[0;34m\u001b[0m\u001b[0m\n",
      "\u001b[0;32m~/anaconda3/lib/python3.7/site-packages/pyscf/lib/linalg_helper.py\u001b[0m in \u001b[0;36mdavidson1\u001b[0;34m(aop, x0, precond, tol, max_cycle, max_space, lindep, max_memory, dot, callback, nroots, lessio, pick, verbose, follow_state, tol_residual)\u001b[0m\n\u001b[1;32m    398\u001b[0m             \u001b[0mxt\u001b[0m \u001b[0;34m=\u001b[0m \u001b[0mxt\u001b[0m\u001b[0;34m[\u001b[0m\u001b[0;34m:\u001b[0m\u001b[0;36m40\u001b[0m\u001b[0;34m]\u001b[0m  \u001b[0;31m# 40 trial vectors at most\u001b[0m\u001b[0;34m\u001b[0m\u001b[0;34m\u001b[0m\u001b[0m\n\u001b[1;32m    399\u001b[0m \u001b[0;34m\u001b[0m\u001b[0m\n\u001b[0;32m--> 400\u001b[0;31m         \u001b[0maxt\u001b[0m \u001b[0;34m=\u001b[0m \u001b[0maop\u001b[0m\u001b[0;34m(\u001b[0m\u001b[0mxt\u001b[0m\u001b[0;34m)\u001b[0m\u001b[0;34m\u001b[0m\u001b[0;34m\u001b[0m\u001b[0m\n\u001b[0m\u001b[1;32m    401\u001b[0m         \u001b[0;32mfor\u001b[0m \u001b[0mk\u001b[0m\u001b[0;34m,\u001b[0m \u001b[0mxi\u001b[0m \u001b[0;32min\u001b[0m \u001b[0menumerate\u001b[0m\u001b[0;34m(\u001b[0m\u001b[0mxt\u001b[0m\u001b[0;34m)\u001b[0m\u001b[0;34m:\u001b[0m\u001b[0;34m\u001b[0m\u001b[0;34m\u001b[0m\u001b[0m\n\u001b[1;32m    402\u001b[0m             \u001b[0mxs\u001b[0m\u001b[0;34m.\u001b[0m\u001b[0mappend\u001b[0m\u001b[0;34m(\u001b[0m\u001b[0mxt\u001b[0m\u001b[0;34m[\u001b[0m\u001b[0mk\u001b[0m\u001b[0;34m]\u001b[0m\u001b[0;34m)\u001b[0m\u001b[0;34m\u001b[0m\u001b[0;34m\u001b[0m\u001b[0m\n",
      "\u001b[0;32m~/anaconda3/lib/python3.7/site-packages/pyscf/ci/cisd.py\u001b[0m in \u001b[0;36mop\u001b[0;34m(xs)\u001b[0m\n\u001b[1;32m     44\u001b[0m \u001b[0;34m\u001b[0m\u001b[0m\n\u001b[1;32m     45\u001b[0m     \u001b[0;32mdef\u001b[0m \u001b[0mop\u001b[0m\u001b[0;34m(\u001b[0m\u001b[0mxs\u001b[0m\u001b[0;34m)\u001b[0m\u001b[0;34m:\u001b[0m\u001b[0;34m\u001b[0m\u001b[0;34m\u001b[0m\u001b[0m\n\u001b[0;32m---> 46\u001b[0;31m         \u001b[0;32mreturn\u001b[0m \u001b[0;34m[\u001b[0m\u001b[0mmyci\u001b[0m\u001b[0;34m.\u001b[0m\u001b[0mcontract\u001b[0m\u001b[0;34m(\u001b[0m\u001b[0mx\u001b[0m\u001b[0;34m,\u001b[0m \u001b[0meris\u001b[0m\u001b[0;34m)\u001b[0m \u001b[0;32mfor\u001b[0m \u001b[0mx\u001b[0m \u001b[0;32min\u001b[0m \u001b[0mxs\u001b[0m\u001b[0;34m]\u001b[0m\u001b[0;34m\u001b[0m\u001b[0;34m\u001b[0m\u001b[0m\n\u001b[0m\u001b[1;32m     47\u001b[0m \u001b[0;34m\u001b[0m\u001b[0m\n\u001b[1;32m     48\u001b[0m     \u001b[0;32mdef\u001b[0m \u001b[0mprecond\u001b[0m\u001b[0;34m(\u001b[0m\u001b[0mx\u001b[0m\u001b[0;34m,\u001b[0m \u001b[0me\u001b[0m\u001b[0;34m,\u001b[0m \u001b[0;34m*\u001b[0m\u001b[0margs\u001b[0m\u001b[0;34m)\u001b[0m\u001b[0;34m:\u001b[0m\u001b[0;34m\u001b[0m\u001b[0;34m\u001b[0m\u001b[0m\n",
      "\u001b[0;32m~/anaconda3/lib/python3.7/site-packages/pyscf/ci/cisd.py\u001b[0m in \u001b[0;36m<listcomp>\u001b[0;34m(.0)\u001b[0m\n\u001b[1;32m     44\u001b[0m \u001b[0;34m\u001b[0m\u001b[0m\n\u001b[1;32m     45\u001b[0m     \u001b[0;32mdef\u001b[0m \u001b[0mop\u001b[0m\u001b[0;34m(\u001b[0m\u001b[0mxs\u001b[0m\u001b[0;34m)\u001b[0m\u001b[0;34m:\u001b[0m\u001b[0;34m\u001b[0m\u001b[0;34m\u001b[0m\u001b[0m\n\u001b[0;32m---> 46\u001b[0;31m         \u001b[0;32mreturn\u001b[0m \u001b[0;34m[\u001b[0m\u001b[0mmyci\u001b[0m\u001b[0;34m.\u001b[0m\u001b[0mcontract\u001b[0m\u001b[0;34m(\u001b[0m\u001b[0mx\u001b[0m\u001b[0;34m,\u001b[0m \u001b[0meris\u001b[0m\u001b[0;34m)\u001b[0m \u001b[0;32mfor\u001b[0m \u001b[0mx\u001b[0m \u001b[0;32min\u001b[0m \u001b[0mxs\u001b[0m\u001b[0;34m]\u001b[0m\u001b[0;34m\u001b[0m\u001b[0;34m\u001b[0m\u001b[0m\n\u001b[0m\u001b[1;32m     47\u001b[0m \u001b[0;34m\u001b[0m\u001b[0m\n\u001b[1;32m     48\u001b[0m     \u001b[0;32mdef\u001b[0m \u001b[0mprecond\u001b[0m\u001b[0;34m(\u001b[0m\u001b[0mx\u001b[0m\u001b[0;34m,\u001b[0m \u001b[0me\u001b[0m\u001b[0;34m,\u001b[0m \u001b[0;34m*\u001b[0m\u001b[0margs\u001b[0m\u001b[0;34m)\u001b[0m\u001b[0;34m:\u001b[0m\u001b[0;34m\u001b[0m\u001b[0;34m\u001b[0m\u001b[0m\n",
      "\u001b[0;32m~/anaconda3/lib/python3.7/site-packages/pyscf/ci/cisd.py\u001b[0m in \u001b[0;36mcontract\u001b[0;34m(myci, civec, eris)\u001b[0m\n\u001b[1;32m    110\u001b[0m     \u001b[0mc0\u001b[0m\u001b[0;34m,\u001b[0m \u001b[0mc1\u001b[0m\u001b[0;34m,\u001b[0m \u001b[0mc2\u001b[0m \u001b[0;34m=\u001b[0m \u001b[0mmyci\u001b[0m\u001b[0;34m.\u001b[0m\u001b[0mcisdvec_to_amplitudes\u001b[0m\u001b[0;34m(\u001b[0m\u001b[0mcivec\u001b[0m\u001b[0;34m,\u001b[0m \u001b[0mnmo\u001b[0m\u001b[0;34m,\u001b[0m \u001b[0mnocc\u001b[0m\u001b[0;34m)\u001b[0m\u001b[0;34m\u001b[0m\u001b[0;34m\u001b[0m\u001b[0m\n\u001b[1;32m    111\u001b[0m \u001b[0;34m\u001b[0m\u001b[0m\n\u001b[0;32m--> 112\u001b[0;31m     \u001b[0mt2\u001b[0m \u001b[0;34m=\u001b[0m \u001b[0mmyci\u001b[0m\u001b[0;34m.\u001b[0m\u001b[0m_add_vvvv\u001b[0m\u001b[0;34m(\u001b[0m\u001b[0mc2\u001b[0m\u001b[0;34m,\u001b[0m \u001b[0meris\u001b[0m\u001b[0;34m,\u001b[0m \u001b[0mt2sym\u001b[0m\u001b[0;34m=\u001b[0m\u001b[0;34m'jiba'\u001b[0m\u001b[0;34m)\u001b[0m\u001b[0;34m\u001b[0m\u001b[0;34m\u001b[0m\u001b[0m\n\u001b[0m\u001b[1;32m    113\u001b[0m     \u001b[0mt2\u001b[0m \u001b[0;34m*=\u001b[0m \u001b[0;36m.5\u001b[0m  \u001b[0;31m# due to t2+t2.transpose(1,0,3,2) in the end\u001b[0m\u001b[0;34m\u001b[0m\u001b[0;34m\u001b[0m\u001b[0m\n\u001b[1;32m    114\u001b[0m     \u001b[0mtime1\u001b[0m \u001b[0;34m=\u001b[0m \u001b[0mlog\u001b[0m\u001b[0;34m.\u001b[0m\u001b[0mtimer_debug1\u001b[0m\u001b[0;34m(\u001b[0m\u001b[0;34m'vvvv'\u001b[0m\u001b[0;34m,\u001b[0m \u001b[0;34m*\u001b[0m\u001b[0mtime0\u001b[0m\u001b[0;34m)\u001b[0m\u001b[0;34m\u001b[0m\u001b[0;34m\u001b[0m\u001b[0m\n",
      "\u001b[0;32m~/anaconda3/lib/python3.7/site-packages/pyscf/ci/cisd.py\u001b[0m in \u001b[0;36m_add_vvvv\u001b[0;34m(self, c2, eris, out, t2sym)\u001b[0m\n\u001b[1;32m    981\u001b[0m \u001b[0;34m\u001b[0m\u001b[0m\n\u001b[1;32m    982\u001b[0m     \u001b[0;32mdef\u001b[0m \u001b[0m_add_vvvv\u001b[0m\u001b[0;34m(\u001b[0m\u001b[0mself\u001b[0m\u001b[0;34m,\u001b[0m \u001b[0mc2\u001b[0m\u001b[0;34m,\u001b[0m \u001b[0meris\u001b[0m\u001b[0;34m,\u001b[0m \u001b[0mout\u001b[0m\u001b[0;34m=\u001b[0m\u001b[0;32mNone\u001b[0m\u001b[0;34m,\u001b[0m \u001b[0mt2sym\u001b[0m\u001b[0;34m=\u001b[0m\u001b[0;32mNone\u001b[0m\u001b[0;34m)\u001b[0m\u001b[0;34m:\u001b[0m\u001b[0;34m\u001b[0m\u001b[0;34m\u001b[0m\u001b[0m\n\u001b[0;32m--> 983\u001b[0;31m         \u001b[0;32mreturn\u001b[0m \u001b[0mccsd\u001b[0m\u001b[0;34m.\u001b[0m\u001b[0m_add_vvvv\u001b[0m\u001b[0;34m(\u001b[0m\u001b[0mself\u001b[0m\u001b[0;34m,\u001b[0m \u001b[0;32mNone\u001b[0m\u001b[0;34m,\u001b[0m \u001b[0mc2\u001b[0m\u001b[0;34m,\u001b[0m \u001b[0meris\u001b[0m\u001b[0;34m,\u001b[0m \u001b[0mout\u001b[0m\u001b[0;34m,\u001b[0m \u001b[0;32mFalse\u001b[0m\u001b[0;34m,\u001b[0m \u001b[0mt2sym\u001b[0m\u001b[0;34m)\u001b[0m\u001b[0;34m\u001b[0m\u001b[0;34m\u001b[0m\u001b[0m\n\u001b[0m\u001b[1;32m    984\u001b[0m \u001b[0;34m\u001b[0m\u001b[0m\n\u001b[1;32m    985\u001b[0m     \u001b[0;32mdef\u001b[0m \u001b[0mto_fcivec\u001b[0m\u001b[0;34m(\u001b[0m\u001b[0mself\u001b[0m\u001b[0;34m,\u001b[0m \u001b[0mcisdvec\u001b[0m\u001b[0;34m,\u001b[0m \u001b[0mnorb\u001b[0m\u001b[0;34m=\u001b[0m\u001b[0;32mNone\u001b[0m\u001b[0;34m,\u001b[0m \u001b[0mnelec\u001b[0m\u001b[0;34m=\u001b[0m\u001b[0;32mNone\u001b[0m\u001b[0;34m,\u001b[0m \u001b[0mfrozen\u001b[0m\u001b[0;34m=\u001b[0m\u001b[0;32mNone\u001b[0m\u001b[0;34m)\u001b[0m\u001b[0;34m:\u001b[0m\u001b[0;34m\u001b[0m\u001b[0;34m\u001b[0m\u001b[0m\n",
      "\u001b[0;32m~/anaconda3/lib/python3.7/site-packages/pyscf/cc/ccsd.py\u001b[0m in \u001b[0;36m_add_vvvv\u001b[0;34m(mycc, t1, t2, eris, out, with_ovvv, t2sym)\u001b[0m\n\u001b[1;32m    364\u001b[0m         \u001b[0mHt2tril\u001b[0m \u001b[0;34m=\u001b[0m \u001b[0m_add_vvvv_tril\u001b[0m\u001b[0;34m(\u001b[0m\u001b[0mmycc\u001b[0m\u001b[0;34m,\u001b[0m \u001b[0mt1\u001b[0m\u001b[0;34m,\u001b[0m \u001b[0mt2\u001b[0m\u001b[0;34m,\u001b[0m \u001b[0meris\u001b[0m\u001b[0;34m,\u001b[0m \u001b[0mwith_ovvv\u001b[0m\u001b[0;34m=\u001b[0m\u001b[0mwith_ovvv\u001b[0m\u001b[0;34m)\u001b[0m\u001b[0;34m\u001b[0m\u001b[0;34m\u001b[0m\u001b[0m\n\u001b[1;32m    365\u001b[0m         \u001b[0mnocc\u001b[0m\u001b[0;34m,\u001b[0m \u001b[0mnvir\u001b[0m \u001b[0;34m=\u001b[0m \u001b[0mt2\u001b[0m\u001b[0;34m.\u001b[0m\u001b[0mshape\u001b[0m\u001b[0;34m[\u001b[0m\u001b[0;36m1\u001b[0m\u001b[0;34m:\u001b[0m\u001b[0;36m3\u001b[0m\u001b[0;34m]\u001b[0m\u001b[0;34m\u001b[0m\u001b[0;34m\u001b[0m\u001b[0m\n\u001b[0;32m--> 366\u001b[0;31m         \u001b[0mHt2\u001b[0m \u001b[0;34m=\u001b[0m \u001b[0m_unpack_t2_tril\u001b[0m\u001b[0;34m(\u001b[0m\u001b[0mHt2tril\u001b[0m\u001b[0;34m,\u001b[0m \u001b[0mnocc\u001b[0m\u001b[0;34m,\u001b[0m \u001b[0mnvir\u001b[0m\u001b[0;34m,\u001b[0m \u001b[0mout\u001b[0m\u001b[0;34m,\u001b[0m \u001b[0mt2sym\u001b[0m\u001b[0;34m)\u001b[0m\u001b[0;34m\u001b[0m\u001b[0;34m\u001b[0m\u001b[0m\n\u001b[0m\u001b[1;32m    367\u001b[0m     \u001b[0;32melse\u001b[0m\u001b[0;34m:\u001b[0m\u001b[0;34m\u001b[0m\u001b[0;34m\u001b[0m\u001b[0m\n\u001b[1;32m    368\u001b[0m         \u001b[0mHt2\u001b[0m \u001b[0;34m=\u001b[0m \u001b[0m_add_vvvv_full\u001b[0m\u001b[0;34m(\u001b[0m\u001b[0mmycc\u001b[0m\u001b[0;34m,\u001b[0m \u001b[0mt1\u001b[0m\u001b[0;34m,\u001b[0m \u001b[0mt2\u001b[0m\u001b[0;34m,\u001b[0m \u001b[0meris\u001b[0m\u001b[0;34m,\u001b[0m \u001b[0mout\u001b[0m\u001b[0;34m,\u001b[0m \u001b[0mwith_ovvv\u001b[0m\u001b[0;34m)\u001b[0m\u001b[0;34m\u001b[0m\u001b[0;34m\u001b[0m\u001b[0m\n",
      "\u001b[0;32m~/anaconda3/lib/python3.7/site-packages/pyscf/cc/ccsd.py\u001b[0m in \u001b[0;36m_unpack_t2_tril\u001b[0;34m(t2tril, nocc, nvir, out, t2sym)\u001b[0m\n\u001b[1;32m    614\u001b[0m \u001b[0;34m\u001b[0m\u001b[0m\n\u001b[1;32m    615\u001b[0m \u001b[0;32mdef\u001b[0m \u001b[0m_unpack_t2_tril\u001b[0m\u001b[0;34m(\u001b[0m\u001b[0mt2tril\u001b[0m\u001b[0;34m,\u001b[0m \u001b[0mnocc\u001b[0m\u001b[0;34m,\u001b[0m \u001b[0mnvir\u001b[0m\u001b[0;34m,\u001b[0m \u001b[0mout\u001b[0m\u001b[0;34m=\u001b[0m\u001b[0;32mNone\u001b[0m\u001b[0;34m,\u001b[0m \u001b[0mt2sym\u001b[0m\u001b[0;34m=\u001b[0m\u001b[0;34m'jiba'\u001b[0m\u001b[0;34m)\u001b[0m\u001b[0;34m:\u001b[0m\u001b[0;34m\u001b[0m\u001b[0;34m\u001b[0m\u001b[0m\n\u001b[0;32m--> 616\u001b[0;31m     \u001b[0mt2\u001b[0m \u001b[0;34m=\u001b[0m \u001b[0mnumpy\u001b[0m\u001b[0;34m.\u001b[0m\u001b[0mndarray\u001b[0m\u001b[0;34m(\u001b[0m\u001b[0;34m(\u001b[0m\u001b[0mnocc\u001b[0m\u001b[0;34m,\u001b[0m\u001b[0mnocc\u001b[0m\u001b[0;34m,\u001b[0m\u001b[0mnvir\u001b[0m\u001b[0;34m,\u001b[0m\u001b[0mnvir\u001b[0m\u001b[0;34m)\u001b[0m\u001b[0;34m,\u001b[0m \u001b[0mdtype\u001b[0m\u001b[0;34m=\u001b[0m\u001b[0mt2tril\u001b[0m\u001b[0;34m.\u001b[0m\u001b[0mdtype\u001b[0m\u001b[0;34m,\u001b[0m \u001b[0mbuffer\u001b[0m\u001b[0;34m=\u001b[0m\u001b[0mout\u001b[0m\u001b[0;34m)\u001b[0m\u001b[0;34m\u001b[0m\u001b[0;34m\u001b[0m\u001b[0m\n\u001b[0m\u001b[1;32m    617\u001b[0m     \u001b[0midx\u001b[0m\u001b[0;34m,\u001b[0m\u001b[0midy\u001b[0m \u001b[0;34m=\u001b[0m \u001b[0mnumpy\u001b[0m\u001b[0;34m.\u001b[0m\u001b[0mtril_indices\u001b[0m\u001b[0;34m(\u001b[0m\u001b[0mnocc\u001b[0m\u001b[0;34m)\u001b[0m\u001b[0;34m\u001b[0m\u001b[0;34m\u001b[0m\u001b[0m\n\u001b[1;32m    618\u001b[0m     \u001b[0;32mif\u001b[0m \u001b[0mt2sym\u001b[0m \u001b[0;34m==\u001b[0m \u001b[0;34m'jiba'\u001b[0m\u001b[0;34m:\u001b[0m\u001b[0;34m\u001b[0m\u001b[0;34m\u001b[0m\u001b[0m\n",
      "\u001b[0;31mKeyboardInterrupt\u001b[0m: "
     ]
    }
   ],
   "source": [
    "# Future\n",
    "from pyscf import gto, scf, ci, ao2mo\n",
    "ghost_bas = gto.basis.load('/Users/JG/Documents/Software/OpenCAP/opencap/example/pyscf_bas.bas', 'H')\n",
    "N_bas= gto.basis.load('/Users/JG/Documents/Software/OpenCAP/opencap/example/pyscf_bas.bas', 'N')\n",
    "mol = gto.M(\n",
    "            atom = 'N 0 0 0.55; N 0 0 -0.55',\n",
    "            basis = {'N': N_bas, 'ghost': ghost_bas}\n",
    "            )\n",
    "mf = scf.RHF(mol).run()\n",
    "myci = ci.CISD(mf).run()\n",
    "myci.nroots = 6\n",
    "myci.kernel()\n",
    "# can get TDMs in AO basis for any pair of states\n",
    "t_dm1 = myci.trans_rdm1(myci.ci[3], myci.ci[0])\n",
    "t_dm1 = numpy.einsum('pi,ij,qj->pq', mf.mo_coeff, t_dm1, mf.mo_coeff.conj())"
   ]
  },
  {
   "cell_type": "code",
   "execution_count": null,
   "metadata": {},
   "outputs": [],
   "source": []
  }
 ],
 "metadata": {
  "kernelspec": {
   "display_name": "Python 3",
   "language": "python",
   "name": "python3"
  },
  "language_info": {
   "codemirror_mode": {
    "name": "ipython",
    "version": 3
   },
   "file_extension": ".py",
   "mimetype": "text/x-python",
   "name": "python",
   "nbconvert_exporter": "python",
   "pygments_lexer": "ipython3",
   "version": "3.7.3"
  }
 },
 "nbformat": 4,
 "nbformat_minor": 4
}
