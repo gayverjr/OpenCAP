{
 "cells": [
  {
   "cell_type": "code",
   "execution_count": 9,
   "metadata": {},
   "outputs": [],
   "source": [
    "import numpy as np\n",
    "import h5py \n",
    "import pycap\n",
    "from pandas import DataFrame"
   ]
  },
  {
   "cell_type": "code",
   "execution_count": 10,
   "metadata": {},
   "outputs": [],
   "source": [
    "# define dictionaries we'll use later\n",
    "sys_dict = {\"geometry\":    '''N  0  0   1.039\n",
    "                             N  0  0   -1.039\n",
    "                            Gh 0  0   0.0''',\n",
    "            \"basis_file\":\"test_bas.bas\",\n",
    "            \"bohr_coordinates\": \"true\",\n",
    "            \"cart_bf\": \"\"}\n",
    "cap_dict = {\n",
    "            \"cap_type\": \"box\",\n",
    "            \"cap_x\":\"2.76\",\n",
    "            \"cap_y\":\"2.76\",\n",
    "            \"cap_z\":\"4.88\",\n",
    "            \"Radial_precision\": \"14\",\n",
    "            \"angular_points\": \"110\"\n",
    "}"
   ]
  },
  {
   "cell_type": "code",
   "execution_count": 11,
   "metadata": {},
   "outputs": [
    {
     "name": "stdout",
     "output_type": "stream",
     "text": [
      "Successfully read in zeroth order Hamiltonian from file:anion_reference.out\n",
      "Successfully read in densities from file:test.rassi.h5\n"
     ]
    }
   ],
   "source": [
    "# read in electronic structure data\n",
    "es_dict = {\"method\" : \"ms-caspt2\",\n",
    "           \"molcas_output\":\"anion_reference.out\",\n",
    "           \"rassi_h5\":\"test.rassi.h5\",\n",
    "}\n",
    "s = pycap.System(sys_dict)\n",
    "pc = pycap.Projected_CAP(s,cap_dict,10,\"openmolcas\")\n",
    "pc.read_data(es_dict)"
   ]
  },
  {
   "cell_type": "code",
   "execution_count": 12,
   "metadata": {},
   "outputs": [
    {
     "name": "stdout",
     "output_type": "stream",
     "text": [
      "Calculating CAP matrix in AO basis...\n",
      "Integration time:3.254084\n",
      "Zeroth order Hamiltonian\n",
      "-109.305208   -0.000000    0.000034    0.002097   -0.003538   -0.000063   -0.000090   -0.002080   -0.000000    0.000000\n",
      "  -0.000000 -109.305208   -0.002097    0.000034   -0.000063    0.003538   -0.002080    0.000090   -0.000000    0.000000\n",
      "   0.000034   -0.002097 -109.240716   -0.000000   -0.000050    0.027058   -0.019596    0.001166   -0.000000   -0.000000\n",
      "   0.002097    0.000034   -0.000000 -109.240716    0.027058    0.000050    0.001166    0.019596   -0.000000   -0.000000\n",
      "  -0.003538   -0.000063   -0.000050    0.027058 -109.217809    0.000000   -0.002954   -0.048141    0.000000    0.000000\n",
      "  -0.000063    0.003538    0.027058    0.000050    0.000000 -109.217809    0.048141   -0.002954   -0.000000    0.000000\n",
      "  -0.000090   -0.002080   -0.019596    0.001166   -0.002954    0.048141 -109.072142    0.000000    0.000000   -0.000000\n",
      "  -0.002080    0.000090    0.001166    0.019596   -0.048141   -0.002954    0.000000 -109.072142    0.000000    0.000000\n",
      "  -0.000000   -0.000000   -0.000000   -0.000000    0.000000   -0.000000    0.000000    0.000000 -109.029891   -0.000000\n",
      "   0.000000    0.000000   -0.000000   -0.000000    0.000000    0.000000   -0.000000    0.000000   -0.000000 -109.029892\n",
      "CAP matrix\n",
      "-4.480785e+01  4.785505e-12 -3.508359e-01 -2.187164e+01 -1.011089e+01 -1.808094e-01  2.140307e-01  4.927576e+00 -4.383338e-11  1.783320e-10\n",
      " 4.785505e-12 -4.480785e+01  2.187164e+01 -3.508359e-01 -1.808094e-01  1.011089e+01  4.927576e+00 -2.140307e-01  1.810747e-10  4.353140e-11\n",
      "-3.508359e-01  2.187164e+01 -2.246989e+01 -1.756817e-12  2.858387e-02 -1.552258e+01 -1.019857e+01  6.069928e-01 -3.123564e-10 -7.653256e-11\n",
      "-2.187164e+01 -3.508359e-01 -1.756817e-12 -2.246989e+01 -1.552258e+01 -2.858387e-02  6.069928e-01  1.019857e+01 -7.669598e-11  3.357101e-10\n",
      "-1.011089e+01 -1.808094e-01  2.858387e-02 -1.552258e+01 -1.407956e+01  1.662670e-11  7.152816e-01  1.165607e+01 -1.189733e-10  5.247713e-10\n",
      "-1.808094e-01  1.011089e+01 -1.552258e+01 -2.858387e-02  1.662670e-11 -1.407956e+01 -1.165607e+01  7.152816e-01 -6.275709e-10 -1.296527e-10\n",
      " 2.140307e-01  4.927576e+00 -1.019857e+01  6.069928e-01  7.152816e-01 -1.165607e+01 -1.154507e+01  5.558221e-12  1.490692e-09  3.941683e-10\n",
      " 4.927576e+00 -2.140307e-01  6.069928e-01  1.019857e+01  1.165607e+01  7.152816e-01  5.558221e-12 -1.154507e+01 -3.894485e-10  1.298620e-09\n",
      "-4.383338e-11  1.810747e-10 -3.123564e-10 -7.669598e-11 -1.189733e-10 -6.275709e-10  1.490692e-09 -3.894485e-10 -4.486273e+01 -8.610890e-12\n",
      " 1.783320e-10  4.353140e-11 -7.653256e-11  3.357101e-10  5.247713e-10 -1.296527e-10  3.941683e-10  1.298620e-09 -8.610890e-12 -4.486273e+01\n"
     ]
    }
   ],
   "source": [
    "# do cap calculation, print matrices\n",
    "pc.compute_ao_cap()\n",
    "pc.compute_projected_cap()\n",
    "mat=pc.get_projected_cap()\n",
    "h0 = pc.get_H()\n",
    "print(\"Zeroth order Hamiltonian\")\n",
    "print(DataFrame(h0).to_string(index=False, header=False))\n",
    "print(\"CAP matrix\")\n",
    "print(DataFrame(mat).to_string(index=False, header=False))"
   ]
  },
  {
   "cell_type": "code",
   "execution_count": 13,
   "metadata": {},
   "outputs": [
    {
     "name": "stdout",
     "output_type": "stream",
     "text": [
      "Calculating CAP matrix in AO basis...\n",
      "Integration time:3.152447\n",
      "-4.480785e+01  4.763634e-12 -3.508359e-01 -2.187164e+01 -1.011089e+01 -1.808094e-01  2.140307e-01  4.927576e+00 -4.382804e-11  1.782803e-10\n",
      " 4.763634e-12 -4.480785e+01  2.187164e+01 -3.508359e-01 -1.808094e-01  1.011089e+01  4.927576e+00 -2.140307e-01  1.811065e-10  4.356842e-11\n",
      "-3.508359e-01  2.187164e+01 -2.246989e+01 -1.835421e-12  2.858387e-02 -1.552258e+01 -1.019857e+01  6.069928e-01 -3.122858e-10 -7.649703e-11\n",
      "-2.187164e+01 -3.508359e-01 -1.835421e-12 -2.246989e+01 -1.552258e+01 -2.858387e-02  6.069928e-01  1.019857e+01 -7.682245e-11  3.356798e-10\n",
      "-1.011089e+01 -1.808094e-01  2.858387e-02 -1.552258e+01 -1.407956e+01  1.702327e-11  7.152816e-01  1.165607e+01 -1.184679e-10  5.248892e-10\n",
      "-1.808094e-01  1.011089e+01 -1.552258e+01 -2.858387e-02  1.702327e-11 -1.407956e+01 -1.165607e+01  7.152816e-01 -6.277020e-10 -1.298809e-10\n",
      " 2.140307e-01  4.927576e+00 -1.019857e+01  6.069928e-01  7.152816e-01 -1.165607e+01 -1.154507e+01  5.982326e-12  1.490335e-09  3.941115e-10\n",
      " 4.927576e+00 -2.140307e-01  6.069928e-01  1.019857e+01  1.165607e+01  7.152816e-01  5.982326e-12 -1.154507e+01 -3.893731e-10  1.299229e-09\n",
      "-4.382804e-11  1.811065e-10 -3.122858e-10 -7.682245e-11 -1.184679e-10 -6.277020e-10  1.490335e-09 -3.893731e-10 -4.486273e+01 -8.615775e-12\n",
      " 1.782803e-10  4.356842e-11 -7.649703e-11  3.356798e-10  5.248892e-10 -1.298809e-10  3.941115e-10  1.299229e-09 -8.615775e-12 -4.486273e+01\n"
     ]
    }
   ],
   "source": [
    "# pass densities as numpy arrays\n",
    "# set up stuff for hdf5\n",
    "f = h5py.File('test.rassi.h5', 'r')\n",
    "arr = f[\"SFS_TRANSITION_DENSITIES\"]\n",
    "pc = pycap.Projected_CAP(s,cap_dict,10,\"openmolcas\")\n",
    "for i in range(0,10):\n",
    "    for j in range(i,10):\n",
    "        arr1 = np.reshape(arr[i][j],(119,119))\n",
    "        pc.add_tdm(arr1,i,j)\n",
    "        if i!=j:\n",
    "            pc.add_tdm(arr1,j,i)\n",
    "pc.compute_ao_cap()\n",
    "pc.compute_projected_cap()\n",
    "mat=pc.get_projected_cap()\n",
    "print(DataFrame(mat).to_string(index=False, header=False))"
   ]
  },
  {
   "cell_type": "code",
   "execution_count": null,
   "metadata": {},
   "outputs": [],
   "source": [
    "pc.get_ao_cap()"
   ]
  },
  {
   "cell_type": "code",
   "execution_count": null,
   "metadata": {},
   "outputs": [],
   "source": [
    "s.get_overlap_mat()"
   ]
  },
  {
   "cell_type": "code",
   "execution_count": 14,
   "metadata": {},
   "outputs": [],
   "source": [
    "import os\n",
    "import functools\n",
    "from numpy import linalg as LA\n",
    "import matplotlib.pyplot as plt\n",
    "caspt2_energy = -109.35042571\n",
    "E_0 = caspt2_energy\n",
    "au2eV= 27.2113961\n",
    "@functools.total_ordering\n",
    "class root():\n",
    "    def __init__(self, energy, eta):\n",
    "        self.eta = eta\n",
    "        self.energy = energy\n",
    "    \n",
    "    def __lt__(self, other):\n",
    "        return self.eta < other.eta\n",
    "    \n",
    "    def __eq__(self, other):\n",
    "        return self.eta == other.eta and self.eta == other.eta\n",
    "\n",
    "class trajectory():\n",
    "    def __init__(self,states,guess):\n",
    "        min=500\n",
    "        cur=-1\n",
    "        for st in states:\n",
    "            if np.absolute(st.energy-guess)<min:\n",
    "                cur=st\n",
    "                min=np.absolute(st.energy-guess)\n",
    "        self.last=cur\n",
    "        self.states=[cur]\n",
    "    \n",
    "    def add_state(self,states):\n",
    "        min=500\n",
    "        cur=-1\n",
    "        for st in states:\n",
    "            if np.absolute(st.energy-guess)<min:\n",
    "                cur=st\n",
    "                min=np.absolute(st.energy-self.last.energy)\n",
    "        self.states.append(cur)\n",
    "    \n",
    "    def get_corrections(self):\n",
    "        energies=[]\n",
    "        etas=[]\n",
    "        for st in self.states:\n",
    "            energies.append(st.energy)\n",
    "            etas.append(st.eta)\n",
    "        derivs=list(np.gradient(energies)/np.gradient(etas))\n",
    "        for i in range(0,len(self.states)):\n",
    "            self.states[i].corr_energy=self.states[i].energy-derivs[i]*self.states[i].eta"
   ]
  },
  {
   "cell_type": "code",
   "execution_count": 15,
   "metadata": {},
   "outputs": [
    {
     "data": {
      "image/png": "[encoded data removed]",
      "text/plain": [
       "<Figure size 432x288 with 1 Axes>"
      ]
     },
     "metadata": {
      "needs_background": "light"
     },
     "output_type": "display_data"
    }
   ],
   "source": [
    "H_0 = h0\n",
    "cap_mat = mat\n",
    "guess=3\n",
    "eta_list = np.linspace(0,3000,301)\n",
    "eta_list = eta_list * 1E-5\n",
    "all_roots=[]\n",
    "for i in range(0,len(eta_list)):\n",
    "    eta=eta_list[i]\n",
    "    roots=[]\n",
    "    fullH = H_0 +1.0j * eta * cap_mat\n",
    "    eigv,eigvc=LA.eig(fullH)\n",
    "    for eig in eigv:\n",
    "        E = (eig - E_0) * au2eV\n",
    "        roots.append(root(E,eta))\n",
    "        all_roots.append(root(E,eta))\n",
    "    if i==0:\n",
    "        traj=trajectory(roots,guess)\n",
    "    else:\n",
    "        traj.add_state(roots)\n",
    "re_traj = []\n",
    "im_traj = []\n",
    "energies=[]\n",
    "for root in all_roots:\n",
    "    re_traj.append(np.real(root.energy))\n",
    "    im_traj.append(np.imag(root.energy))\n",
    "    energies.append(root.energy)\n",
    "plt.plot(re_traj,im_traj,'ro')\n",
    "plt.show()"
   ]
  },
  {
   "cell_type": "code",
   "execution_count": 16,
   "metadata": {},
   "outputs": [
    {
     "data": {
      "image/png": "[encoded data removed]",
      "text/plain": [
       "<Figure size 432x288 with 1 Axes>"
      ]
     },
     "metadata": {
      "needs_background": "light"
     },
     "output_type": "display_data"
    }
   ],
   "source": [
    "#plot trajectories of interest\n",
    "traj.get_corrections()\n",
    "re_traj = []\n",
    "im_traj = []\n",
    "corr_re=[]\n",
    "corr_im=[]\n",
    "uc_energies=[]\n",
    "corr_energies=[]\n",
    "for root in traj.states:\n",
    "    uc_energies.append(root.energy)\n",
    "    re_traj.append(np.real(root.energy))\n",
    "    im_traj.append(np.imag(root.energy))\n",
    "    corr_re.append(np.real(root.corr_energy))\n",
    "    corr_im.append(np.imag(root.corr_energy))\n",
    "    corr_energies.append(root.corr_energy)\n",
    "plt.plot(re_traj,im_traj,'-ro')\n",
    "plt.plot(corr_re,corr_im,'-bo')\n",
    "plt.show()"
   ]
  },
  {
   "cell_type": "code",
   "execution_count": null,
   "metadata": {},
   "outputs": [],
   "source": [
    "# Future\n",
    "from pyscf import gto, scf, ci, ao2mo\n",
    "ghost_bas = gto.basis.load('/Users/JG/Documents/Software/OpenCAP/opencap/example/pyscf_bas.bas', 'H')\n",
    "N_bas= gto.basis.load('/Users/JG/Documents/Software/OpenCAP/opencap/example/pyscf_bas.bas', 'N')\n",
    "mol = gto.M(\n",
    "            atom = 'N 0 0 0.55; N 0 0 -0.55',\n",
    "            basis = {'N': N_bas, 'ghost': ghost_bas}\n",
    "            )\n",
    "mf = scf.RHF(mol).run()\n",
    "myci = ci.CISD(mf).run()\n",
    "myci.nroots = 6\n",
    "myci.kernel()\n",
    "# can get TDMs in AO basis for any pair of states\n",
    "t_dm1 = myci.trans_rdm1(myci.ci[3], myci.ci[0])\n",
    "t_dm1 = numpy.einsum('pi,ij,qj->pq', mf.mo_coeff, t_dm1, mf.mo_coeff.conj())"
   ]
  }
 ],
 "metadata": {
  "kernelspec": {
   "display_name": "Python 3",
   "language": "python",
   "name": "python3"
  },
  "language_info": {
   "codemirror_mode": {
    "name": "ipython",
    "version": 3
   },
   "file_extension": ".py",
   "mimetype": "text/x-python",
   "name": "python",
   "nbconvert_exporter": "python",
   "pygments_lexer": "ipython3",
   "version": "3.7.3"
  }
 },
 "nbformat": 4,
 "nbformat_minor": 4
}
