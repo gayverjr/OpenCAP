{
 "cells": [
  {
   "cell_type": "code",
   "execution_count": 1,
   "metadata": {},
   "outputs": [],
   "source": [
    "import numpy as np\n",
    "import h5py \n",
    "import pycap\n",
    "from pandas import DataFrame"
   ]
  },
  {
   "cell_type": "code",
   "execution_count": 2,
   "metadata": {},
   "outputs": [],
   "source": [
    "# define dictionaries we'll use later\n",
    "sys_dict = {\"molecule\": \"molcas_rassi\",\n",
    "\"basis_file\": \"anion_ms.rassi.h5\"}\n",
    "\n",
    "cap_dict = {\n",
    "            \"cap_type\": \"box\",\n",
    "            \"cap_x\":\"2.76\",\n",
    "            \"cap_y\":\"2.76\",\n",
    "            \"cap_z\":\"4.88\",\n",
    "            \"Radial_precision\": \"14\",\n",
    "            \"angular_points\": \"110\"\n",
    "}"
   ]
  },
  {
   "cell_type": "code",
   "execution_count": 3,
   "metadata": {},
   "outputs": [
    {
     "name": "stdout",
     "output_type": "stream",
     "text": [
      "Number of basis functions:119\n",
      "Successfully read in zeroth order Hamiltonian from file:anion_ms.out\n",
      "Successfully read in densities from file:anion_ms.rassi.h5\n"
     ]
    }
   ],
   "source": [
    "# read in electronic structure data\n",
    "es_dict = {\"method\" : \"ms-caspt2\",\n",
    "           \"molcas_output\":\"anion_ms.out\",\n",
    "           \"rassi_h5\":\"anion_ms.rassi.h5\",\n",
    "}\n",
    "s = pycap.System(sys_dict)\n",
    "pc = pycap.Projected_CAP(s,cap_dict,10,\"openmolcas\")\n",
    "pc.read_data(es_dict)"
   ]
  },
  {
   "cell_type": "code",
   "execution_count": 4,
   "metadata": {},
   "outputs": [
    {
     "name": "stdout",
     "output_type": "stream",
     "text": [
      "Calculating CAP matrix in AO basis...\n",
      "Integration time:2.099167\n",
      "Zeroth order Hamiltonian\n",
      "-109.305207    0.000000   -0.002096    0.000047    0.003537   -0.000095    0.002081    0.000062   -0.000000    0.000000\n",
      "   0.000000 -109.305207   -0.000047   -0.002096    0.000095    0.003537    0.000062   -0.002081    0.000000    0.000000\n",
      "  -0.002096   -0.000047 -109.240716    0.000000    0.027058   -0.000124    0.019630    0.000144   -0.000000   -0.000000\n",
      "   0.000047   -0.002096    0.000000 -109.240716    0.000124    0.027058    0.000144   -0.019630    0.000000    0.000000\n",
      "   0.003537    0.000095    0.027058    0.000124 -109.217809    0.000000   -0.048231   -0.000134    0.000000    0.000000\n",
      "  -0.000095    0.003537   -0.000124    0.027058    0.000000 -109.217809   -0.000134    0.048231    0.000000   -0.000000\n",
      "   0.002081    0.000062    0.019630    0.000144   -0.048231   -0.000134 -109.072141   -0.000000   -0.000000    0.000000\n",
      "   0.000062   -0.002081    0.000144   -0.019630   -0.000134    0.048231   -0.000000 -109.072142   -0.000000   -0.000000\n",
      "  -0.000000    0.000000   -0.000000    0.000000    0.000000    0.000000   -0.000000   -0.000000 -109.029892    0.000000\n",
      "   0.000000    0.000000   -0.000000    0.000000    0.000000   -0.000000    0.000000   -0.000000    0.000000 -109.029892\n",
      "CAP matrix\n",
      "-4.480783e+01 -3.469780e-11  2.186905e+01 -4.873519e-01  1.010883e+01 -2.714593e-01 -4.930050e+00 -1.461458e-01  1.032960e-11 -1.376734e-10\n",
      "-3.469780e-11 -4.480783e+01  4.873519e-01  2.186905e+01  2.714593e-01  1.010883e+01 -1.461458e-01  4.930050e+00 -1.380058e-10 -4.613460e-12\n",
      " 2.186905e+01  4.873519e-01 -2.246990e+01 -2.436007e-11 -1.552243e+01  7.087433e-02  1.021635e+01  7.513105e-02 -9.370112e-12  2.566847e-10\n",
      "-4.873519e-01  2.186905e+01 -2.436007e-11 -2.246990e+01 -7.087433e-02 -1.552243e+01  7.513105e-02 -1.021635e+01  2.709492e-10  9.090760e-12\n",
      " 1.010883e+01  2.714593e-01 -1.552243e+01 -7.087433e-02 -1.407955e+01  1.398670e-11  1.167796e+01  3.255806e-02 -3.315113e-11  4.079145e-10\n",
      "-2.714593e-01  1.010883e+01  7.087433e-02 -1.552243e+01  1.398670e-11 -1.407955e+01  3.255806e-02 -1.167796e+01  4.013496e-10 -3.742539e-12\n",
      "-4.930050e+00 -1.461458e-01  1.021635e+01  7.513105e-02  1.167796e+01  3.255806e-02 -1.154511e+01  2.363791e-12 -1.006233e-10  1.021489e-09\n",
      "-1.461458e-01  4.930050e+00  7.513105e-02 -1.021635e+01  3.255806e-02 -1.167796e+01  2.363791e-12 -1.154511e+01 -1.037135e-09 -9.293716e-12\n",
      " 1.032960e-11 -1.380058e-10 -9.370112e-12  2.709492e-10 -3.315113e-11  4.013496e-10 -1.006233e-10 -1.037135e-09 -4.486275e+01 -1.009570e-11\n",
      "-1.376734e-10 -4.613460e-12  2.566847e-10  9.090760e-12  4.079145e-10 -3.742539e-12  1.021489e-09 -9.293716e-12 -1.009570e-11 -4.486275e+01\n"
     ]
    }
   ],
   "source": [
    "# do cap calculation, print matrices\n",
    "pc.compute_ao_cap()\n",
    "pc.compute_projected_cap()\n",
    "mat=pc.get_projected_cap()\n",
    "h0 = pc.get_H()\n",
    "print(\"Zeroth order Hamiltonian\")\n",
    "print(DataFrame(h0).to_string(index=False, header=False))\n",
    "print(\"CAP matrix\")\n",
    "print(DataFrame(mat).to_string(index=False, header=False))"
   ]
  },
  {
   "cell_type": "code",
   "execution_count": 6,
   "metadata": {},
   "outputs": [],
   "source": [
    "# pass densities as numpy arrays\n",
    "# set up stuff for hdf5\n",
    "f = h5py.File('anion_ms.rassi.h5', 'r')\n",
    "arr = f[\"SFS_TRANSITION_DENSITIES\"]\n",
    "pc = pycap.Projected_CAP(s,cap_dict,10,\"openmolcas\")\n",
    "pc = pycap.Projected_CAP(s,cap_dict,10,\"openmolcas\")\n",
    "for i in range(0,10):\n",
    "    for j in range(i,10):\n",
    "        arr1 = 0.5*np.reshape(arr[i][j],(119,119))\n",
    "        pc.add_tdms(arr1,arr1,i,j,\"openmolcas\",\"anion_ms.rassi.h5\")\n",
    "        if i!=j:\n",
    "            pc.add_tdms(arr1,arr1,j,i,\"openmolcas\",\"anion_ms.rassi.h5\")"
   ]
  },
  {
   "cell_type": "code",
   "execution_count": 11,
   "metadata": {},
   "outputs": [
    {
     "data": {
      "text/plain": [
       "array([], shape=(0, 0), dtype=float64)"
      ]
     },
     "execution_count": 11,
     "metadata": {},
     "output_type": "execute_result"
    }
   ],
   "source": [
    "pc.get_ao_cap()"
   ]
  },
  {
   "cell_type": "code",
   "execution_count": 14,
   "metadata": {},
   "outputs": [
    {
     "name": "stdout",
     "output_type": "stream",
     "text": [
      "(119, 119)\n",
      "Verified overlap matrix.\n"
     ]
    }
   ],
   "source": [
    "#check overlap matrix\n",
    "arr2 = np.array(f[\"AO_OVERLAP_MATRIX\"])\n",
    "arr2 = np.reshape(arr2,(119,119))\n",
    "smat = s.get_overlap_mat()\n",
    "print(np.shape(smat))\n",
    "s.check_overlap_mat(arr2,\"openmolcas\",\"anion_ms.rassi.h5\")"
   ]
  },
  {
   "cell_type": "code",
   "execution_count": 15,
   "metadata": {},
   "outputs": [],
   "source": [
    "import os\n",
    "import functools\n",
    "from numpy import linalg as LA\n",
    "import matplotlib.pyplot as plt\n",
    "caspt2_energy = -109.35042571\n",
    "E_0 = caspt2_energy\n",
    "au2eV= 27.2113961\n",
    "@functools.total_ordering\n",
    "class root():\n",
    "    def __init__(self, energy, eta):\n",
    "        self.eta = eta\n",
    "        self.energy = energy\n",
    "    \n",
    "    def __lt__(self, other):\n",
    "        return self.eta < other.eta\n",
    "    \n",
    "    def __eq__(self, other):\n",
    "        return self.eta == other.eta and self.eta == other.eta\n",
    "\n",
    "class trajectory():\n",
    "    def __init__(self,states,guess):\n",
    "        min=500\n",
    "        cur=-1\n",
    "        for st in states:\n",
    "            if np.absolute(st.energy-guess)<min:\n",
    "                cur=st\n",
    "                min=np.absolute(st.energy-guess)\n",
    "        self.last=cur\n",
    "        self.states=[cur]\n",
    "    \n",
    "    def add_state(self,states):\n",
    "        min=500\n",
    "        cur=-1\n",
    "        for st in states:\n",
    "            if np.absolute(st.energy-guess)<min:\n",
    "                cur=st\n",
    "                min=np.absolute(st.energy-self.last.energy)\n",
    "        self.states.append(cur)\n",
    "    \n",
    "    def get_corrections(self):\n",
    "        energies=[]\n",
    "        etas=[]\n",
    "        for st in self.states:\n",
    "            energies.append(st.energy)\n",
    "            etas.append(st.eta)\n",
    "        derivs=list(np.gradient(energies)/np.gradient(etas))\n",
    "        for i in range(0,len(self.states)):\n",
    "            self.states[i].corr_energy=self.states[i].energy-derivs[i]*self.states[i].eta"
   ]
  },
  {
   "cell_type": "code",
   "execution_count": 16,
   "metadata": {},
   "outputs": [
    {
     "data": {
      "image/png": "[encoded data removed]",
      "text/plain": [
       "<Figure size 432x288 with 1 Axes>"
      ]
     },
     "metadata": {
      "needs_background": "light"
     },
     "output_type": "display_data"
    }
   ],
   "source": [
    "H_0 = h0\n",
    "cap_mat = mat\n",
    "guess=3\n",
    "eta_list = np.linspace(0,3000,301)\n",
    "eta_list = eta_list * 1E-5\n",
    "all_roots=[]\n",
    "for i in range(0,len(eta_list)):\n",
    "    eta=eta_list[i]\n",
    "    roots=[]\n",
    "    fullH = H_0 +1.0j * eta * cap_mat\n",
    "    eigv,eigvc=LA.eig(fullH)\n",
    "    for eig in eigv:\n",
    "        E = (eig - E_0) * au2eV\n",
    "        roots.append(root(E,eta))\n",
    "        all_roots.append(root(E,eta))\n",
    "    if i==0:\n",
    "        traj=trajectory(roots,guess)\n",
    "    else:\n",
    "        traj.add_state(roots)\n",
    "re_traj = []\n",
    "im_traj = []\n",
    "energies=[]\n",
    "for root in all_roots:\n",
    "    re_traj.append(np.real(root.energy))\n",
    "    im_traj.append(np.imag(root.energy))\n",
    "    energies.append(root.energy)\n",
    "plt.plot(re_traj,im_traj,'ro')\n",
    "plt.show()"
   ]
  },
  {
   "cell_type": "code",
   "execution_count": 17,
   "metadata": {},
   "outputs": [
    {
     "data": {
      "image/png": "[encoded data removed]",
      "text/plain": [
       "<Figure size 432x288 with 1 Axes>"
      ]
     },
     "metadata": {
      "needs_background": "light"
     },
     "output_type": "display_data"
    }
   ],
   "source": [
    "#plot trajectories of interest\n",
    "traj.get_corrections()\n",
    "re_traj = []\n",
    "im_traj = []\n",
    "corr_re=[]\n",
    "corr_im=[]\n",
    "uc_energies=[]\n",
    "corr_energies=[]\n",
    "for root in traj.states:\n",
    "    uc_energies.append(root.energy)\n",
    "    re_traj.append(np.real(root.energy))\n",
    "    im_traj.append(np.imag(root.energy))\n",
    "    corr_re.append(np.real(root.corr_energy))\n",
    "    corr_im.append(np.imag(root.corr_energy))\n",
    "    corr_energies.append(root.corr_energy)\n",
    "plt.plot(re_traj,im_traj,'-ro')\n",
    "plt.plot(corr_re,corr_im,'-bo')\n",
    "plt.show()"
   ]
  }
 ],
 "metadata": {
  "kernelspec": {
   "display_name": "Python 3",
   "language": "python",
   "name": "python3"
  },
  "language_info": {
   "codemirror_mode": {
    "name": "ipython",
    "version": 3
   },
   "file_extension": ".py",
   "mimetype": "text/x-python",
   "name": "python",
   "nbconvert_exporter": "python",
   "pygments_lexer": "ipython3",
   "version": "3.7.3"
  }
 },
 "nbformat": 4,
 "nbformat_minor": 4
}
