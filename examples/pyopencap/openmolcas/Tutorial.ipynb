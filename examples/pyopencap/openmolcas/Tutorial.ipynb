{
 "cells": [
  {
   "cell_type": "markdown",
   "metadata": {},
   "source": [
    "# PyOpenCAP tutorial\n",
    "In this tutorial we, post process results from an XMS-CASPT2 calculation from OpenMolcas to perform CAP/XMS-CASPT2 calculations on the ${}^2\\Pi_g$ shape resonance of $N_2^-$."
   ]
  },
  {
   "cell_type": "code",
   "execution_count": 1,
   "metadata": {},
   "outputs": [],
   "source": [
    "import pyopencap\n",
    "import numpy as np\n",
    "from pandas import DataFrame\n",
    "import h5py"
   ]
  },
  {
   "cell_type": "markdown",
   "metadata": {},
   "source": [
    "# Constructing the system object\n",
    "The System object of PyOpenCAP contains the geometry and basis set information, as well as the overlap matrix. The constructor exposed to Python takes in a Python dictionary as an argument, with key/value pairs which mimic the input file format of the command line version. There are three equivalent ways of specifying the geometry and basis set: rassi_h5, molden, and inline. Here, we’ll use the rassi_h5 file."
   ]
  },
  {
   "cell_type": "code",
   "execution_count": 2,
   "metadata": {},
   "outputs": [
    {
     "data": {
      "text/plain": [
       "(119, 119)"
      ]
     },
     "execution_count": 2,
     "metadata": {},
     "output_type": "execute_result"
    }
   ],
   "source": [
    "RASSI_FILE = \"../../opencap/nosymm.rassi.h5\"\n",
    "OUTPUT_FILE = \"../../opencap/nosymm.out\"\n",
    "sys_dict = {\"molecule\": \"molcas_rassi\",\"basis_file\": RASSI_FILE}\n",
    "s = pyopencap.System(sys_dict)\n",
    "smat = s.get_overlap_mat()\n",
    "np.shape(smat)"
   ]
  },
  {
   "cell_type": "markdown",
   "metadata": {},
   "source": [
    "# Constructing the CAP object\n",
    "The CAP matrix is computed by the “CAP” object. The constructor for the CAP object requires a System object, a dictionary containing the CAP parameters, the number of states (10 in this case), and finally the string “openmolcas”, which denotes the ordering of the atomic orbital basis set."
   ]
  },
  {
   "cell_type": "code",
   "execution_count": 3,
   "metadata": {},
   "outputs": [],
   "source": [
    "cap_dict = {\"cap_type\": \"box\",\n",
    "        \"cap_x\":\"2.76\",\n",
    "        \"cap_y\":\"2.76\",\n",
    "        \"cap_z\":\"4.88\",\n",
    "        \"Radial_precision\": \"14\",\n",
    "        \"angular_points\": \"110\"}\n",
    "pc = pyopencap.CAP(s,cap_dict,10,\"openmolcas\")"
   ]
  },
  {
   "cell_type": "markdown",
   "metadata": {},
   "source": [
    "# Parsing electronic structure data from file\n",
    "\n",
    "The “read_data” function of the CAP object can read in the effective Hamiltonian and densities in one-shot when passed a Python dictionary with the right keywords. For now, we’ll retrieve the effective Hamiltonian and store it as h0 for later use."
   ]
  },
  {
   "cell_type": "code",
   "execution_count": 4,
   "metadata": {},
   "outputs": [
    {
     "name": "stdout",
     "output_type": "stream",
     "text": [
      "Successfully read in zeroth order Hamiltonian from file:../../opencap/nosymm.out\n",
      "Reading densities from file:../../opencap/nosymm.rassi.h5\n",
      "Done.\n",
      "Verified overlap matrix.\n"
     ]
    }
   ],
   "source": [
    "es_dict = {\"method\" : \"ms-caspt2\",\n",
    "       \"molcas_output\":OUTPUT_FILE,\n",
    "       \"rassi_h5\":RASSI_FILE}\n",
    "pc.read_data(es_dict)\n",
    "h0 = pc.get_H()"
   ]
  },
  {
   "cell_type": "markdown",
   "metadata": {},
   "source": [
    "# Passing densities in RAM\n",
    "\n",
    "Alternatively, one can load in the densities one at a time using the “add_tdms or add_tdm” functions. We load in the matrices from rassi.h5 using the h5py package, and then pass them as numpy arrays to the CAP object. This can be particularly useful if we want to exclude some of the states from the Perturbative CAP calculation. In this example, the CAP matrix is made to be symmetric."
   ]
  },
  {
   "cell_type": "code",
   "execution_count": 5,
   "metadata": {},
   "outputs": [],
   "source": [
    "f = h5py.File(RASSI_FILE, 'r')\n",
    "dms = f[\"SFS_TRANSITION_DENSITIES\"]\n",
    "pc = pyopencap.CAP(s,cap_dict,10,\"openmolcas\")\n",
    "for i in range(0,10):\n",
    "    for j in range(i,10):\n",
    "        dm_alpha = 0.5*np.reshape(dms[i][j],(119,119))\n",
    "        dm_beta =  0.5*np.reshape(dms[i][j],(119,119))\n",
    "        pc.add_tdms(dm_alpha,dm_beta,i,j,\"openmolcas\",RASSI_FILE)\n",
    "        if i!=j:\n",
    "            pc.add_tdms(dm_alpha,dm_beta,j,i,\"openmolcas\",RASSI_FILE)"
   ]
  },
  {
   "cell_type": "markdown",
   "metadata": {},
   "source": [
    "Once all of the densities are loaded, the CAP matrix is computed using the “compute_perturb_cap” function. The matrix can be retrieved using the “get_perturb_cap” function."
   ]
  },
  {
   "cell_type": "code",
   "execution_count": 6,
   "metadata": {},
   "outputs": [
    {
     "name": "stdout",
     "output_type": "stream",
     "text": [
      "Integration time:0.540274\n"
     ]
    }
   ],
   "source": [
    "pc.compute_perturb_cap()\n",
    "W_mat=pc.get_perturb_cap()"
   ]
  },
  {
   "cell_type": "markdown",
   "metadata": {},
   "source": [
    "Now lets print out our final results."
   ]
  },
  {
   "cell_type": "code",
   "execution_count": 7,
   "metadata": {},
   "outputs": [
    {
     "name": "stdout",
     "output_type": "stream",
     "text": [
      "Printing out matrices required for Perturbative CAP calculation.\n",
      "Number of states: 10\n",
      "Zeroth order Hamiltonian\n",
      "-1.093075e+02 -0.000000e+00   -0.009865    0.000194   -0.002573   -0.000044  1.327900e-04  9.700000e-07   -0.000000   -0.000000\n",
      "-0.000000e+00 -1.093075e+02   -0.000194   -0.009865    0.000044   -0.002573  9.700000e-07 -1.327900e-04   -0.000000   -0.000000\n",
      "-9.865010e-03 -1.935300e-04 -109.250701   -0.000000    0.031362    0.001074  6.621930e-03 -2.309800e-04   -0.000000    0.000000\n",
      " 1.935300e-04 -9.865020e-03   -0.000000 -109.250701   -0.001074    0.031362 -2.309700e-04 -6.621950e-03   -0.000000    0.000000\n",
      "-2.572670e-03  4.448000e-05    0.031362   -0.001074 -109.225978   -0.000000 -3.950227e-02  1.115000e-05    0.000000   -0.000000\n",
      "-4.448000e-05 -2.572660e-03    0.001074    0.031362   -0.000000 -109.225978  1.115000e-05  3.950231e-02    0.000000   -0.000000\n",
      " 1.327900e-04  9.700000e-07    0.006622   -0.000231   -0.039502    0.000011 -1.090686e+02  0.000000e+00    0.000000   -0.000000\n",
      " 9.700000e-07 -1.327900e-04   -0.000231   -0.006622    0.000011    0.039502  0.000000e+00 -1.090686e+02   -0.000000    0.000000\n",
      "-0.000000e+00 -0.000000e+00   -0.000000   -0.000000    0.000000    0.000000  0.000000e+00 -0.000000e+00 -109.030768   -0.000000\n",
      "-0.000000e+00 -0.000000e+00    0.000000    0.000000   -0.000000   -0.000000 -0.000000e+00  0.000000e+00   -0.000000 -109.030768\n",
      "CAP matrix\n",
      "-4.480783e+01 -3.469469e-11  2.186905e+01 -4.873519e-01  1.010883e+01 -2.714593e-01 -4.930051e+00 -1.461458e-01  1.032972e-11 -1.376734e-10\n",
      "-3.469469e-11 -4.480783e+01  4.873519e-01  2.186905e+01  2.714593e-01  1.010883e+01 -1.461458e-01  4.930051e+00 -1.380058e-10 -4.613564e-12\n",
      " 2.186905e+01  4.873519e-01 -2.246990e+01 -2.435915e-11 -1.552243e+01  7.087433e-02  1.021635e+01  7.513105e-02 -9.369691e-12  2.566847e-10\n",
      "-4.873519e-01  2.186905e+01 -2.435915e-11 -2.246990e+01 -7.087433e-02 -1.552243e+01  7.513105e-02 -1.021635e+01  2.709492e-10  9.090673e-12\n",
      " 1.010883e+01  2.714593e-01 -1.552243e+01 -7.087433e-02 -1.407955e+01  1.398523e-11  1.167796e+01  3.255806e-02 -3.315216e-11  4.079145e-10\n",
      "-2.714593e-01  1.010883e+01  7.087433e-02 -1.552243e+01  1.398523e-11 -1.407955e+01  3.255806e-02 -1.167796e+01  4.013496e-10 -3.742032e-12\n",
      "-4.930051e+00 -1.461458e-01  1.021635e+01  7.513105e-02  1.167796e+01  3.255806e-02 -1.154511e+01  2.369990e-12 -1.006236e-10  1.021489e-09\n",
      "-1.461458e-01  4.930051e+00  7.513105e-02 -1.021635e+01  3.255806e-02 -1.167796e+01  2.369990e-12 -1.154511e+01 -1.037135e-09 -9.294003e-12\n",
      " 1.032972e-11 -1.380058e-10 -9.369691e-12  2.709492e-10 -3.315216e-11  4.013496e-10 -1.006236e-10 -1.037135e-09 -4.486275e+01 -1.009604e-11\n",
      "-1.376734e-10 -4.613564e-12  2.566847e-10  9.090673e-12  4.079145e-10 -3.742032e-12  1.021489e-09 -9.294003e-12 -1.009604e-11 -4.486275e+01\n"
     ]
    }
   ],
   "source": [
    "print(\"Printing out matrices required for Perturbative CAP calculation.\")\n",
    "print(\"Number of states: 10\")\n",
    "print(\"Zeroth order Hamiltonian\")\n",
    "print(DataFrame(h0).to_string(index=False, header=False))\n",
    "print(\"CAP matrix\")\n",
    "print(DataFrame(W_mat).to_string(index=False, header=False))"
   ]
  },
  {
   "cell_type": "markdown",
   "metadata": {},
   "source": [
    "# Eigenvalue trajectories\n",
    "We now have our zeroth order Hamiltonian (stored in h0) and our CAP matrix(W_mat) in\n",
    "the state basis. Extracting resonance position and width requires analysis of the \n",
    "eigenvalue trajectories. The script [example.py](https://github.com/gayverjr/opencap/blob/master/examples/pyopencap/openmolcas/example.py) runs this example and diagonalizes the CAP-augmented Hamiltonian $H^{CAP}=H_0-i\\eta W$\n",
    "over a range of $\\eta$-values. The reference energy was obtained in a separate calculation which \n",
    "computed the ground state of the neutral molecule with CASCI/CASPT2 using the optimized orbitals of the \n",
    "anionic state. The results are plotted below:"
   ]
  },
  {
   "cell_type": "markdown",
   "metadata": {},
   "source": [
    "![Description](Images/trajectories.png)"
   ]
  },
  {
   "cell_type": "markdown",
   "metadata": {},
   "source": [
    "The resonance trajectory will vary slowest with the changing CAP strength. Zooming in on the \n",
    "trajectory near 2.2eV, we also plot the \"corrected\" trajectory, which is obtained by applying the\n",
    "first-order correction: \n",
    "\n",
    "$U(\\eta)=E(\\eta)-\\eta\\frac{\\partial E(\\eta) }{\\partial \\eta}$"
   ]
  },
  {
   "cell_type": "markdown",
   "metadata": {},
   "source": [
    "![trajectories](Images/res_trajectory.png)"
   ]
  },
  {
   "cell_type": "markdown",
   "metadata": {},
   "source": [
    "Finally, the best estimate of resonance position and width are obtained at the stationary point \n",
    "\n",
    "$\\eta_{opt} = min \\left | \\eta^2 \\frac{\\partial^2 E }{\\partial \\eta^2} \\right |$ \n",
    "\n",
    "For this example, this yields a resonance energy of 2.15eV, and a width of 0.35eV."
   ]
  }
 ],
 "metadata": {
  "kernelspec": {
   "display_name": "Python 3",
   "language": "python",
   "name": "python3"
  },
  "language_info": {
   "codemirror_mode": {
    "name": "ipython",
    "version": 3
   },
   "file_extension": ".py",
   "mimetype": "text/x-python",
   "name": "python",
   "nbconvert_exporter": "python",
   "pygments_lexer": "ipython3",
   "version": "3.7.3"
  }
 },
 "nbformat": 4,
 "nbformat_minor": 4
}
