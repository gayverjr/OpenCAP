{
 "cells": [
  {
   "cell_type": "code",
   "execution_count": null,
   "metadata": {},
   "outputs": [],
   "source": [
    "import numpy as np\n",
    "import h5py \n",
    "import pycap\n",
    "from pandas import DataFrame"
   ]
  },
  {
   "cell_type": "code",
   "execution_count": null,
   "metadata": {},
   "outputs": [],
   "source": [
    "help(pycap)"
   ]
  },
  {
   "cell_type": "code",
   "execution_count": null,
   "metadata": {},
   "outputs": [],
   "source": [
    "# define dictionaries we'll use later\n",
    "sys_dict = {\"molecule\": \"molcas_rassi\",\n",
    "\"basis_file\": \"anion_ms.rassi.h5\"}\n",
    "\n",
    "cap_dict = {\n",
    "            \"cap_type\": \"box\",\n",
    "            \"cap_x\":\"2.76\",\n",
    "            \"cap_y\":\"2.76\",\n",
    "            \"cap_z\":\"4.88\",\n",
    "            \"Radial_precision\": \"14\",\n",
    "            \"angular_points\": \"110\"\n",
    "}\n",
    "s = pycap.System(sys_dict)\n",
    "smat = s.get_overlap_mat()\n",
    "np.shape(smat)"
   ]
  },
  {
   "cell_type": "code",
   "execution_count": null,
   "metadata": {},
   "outputs": [],
   "source": [
    "# read in electronic structure data\n",
    "es_dict = {\"method\" : \"ms-caspt2\",\n",
    "           \"molcas_output\":\"anion_ms.out\",\n",
    "           \"rassi_h5\":\"anion_ms.rassi.h5\",\n",
    "}\n",
    "pc = pycap.Projected_CAP(s,cap_dict,10,\"openmolcas\")\n",
    "pc.read_data(es_dict)"
   ]
  },
  {
   "cell_type": "code",
   "execution_count": null,
   "metadata": {},
   "outputs": [],
   "source": [
    "# do cap calculation, print matrices\n",
    "pc.compute_ao_cap()\n",
    "pc.compute_projected_cap()\n",
    "mat=pc.get_projected_cap()\n",
    "h0 = pc.get_H()\n",
    "print(\"Zeroth order Hamiltonian\")\n",
    "print(DataFrame(h0).to_string(index=False, header=False))\n",
    "print(\"CAP matrix\")\n",
    "print(DataFrame(mat).to_string(index=False, header=False))"
   ]
  },
  {
   "cell_type": "code",
   "execution_count": null,
   "metadata": {},
   "outputs": [],
   "source": [
    "#check overlap matrix\n",
    "f = h5py.File('anion_ms.rassi.h5', 'r')\n",
    "arr2 = np.array(f[\"AO_OVERLAP_MATRIX\"])\n",
    "arr2 = np.reshape(arr2,(119,119))\n",
    "s.check_overlap_mat(arr2,\"openmolcas\",\"anion_ms.rassi.h5\")"
   ]
  },
  {
   "cell_type": "code",
   "execution_count": null,
   "metadata": {},
   "outputs": [],
   "source": [
    "# Separate alpha and beta densities\n",
    "arr = f[\"SFS_TRANSITION_DENSITIES\"]\n",
    "pc = pycap.Projected_CAP(s,cap_dict,10,\"openmolcas\")\n",
    "for i in range(0,10):\n",
    "    for j in range(i,10):\n",
    "        arr1 = 0.5*np.reshape(arr[i][j],(119,119))\n",
    "        pc.add_tdms(arr1,arr1,i,j,\"openmolcas\",\"anion_ms.rassi.h5\")\n",
    "        if i!=j:\n",
    "            pc.add_tdms(arr1,arr1,j,i,\"openmolcas\",\"anion_ms.rassi.h5\")\n",
    "pc.compute_ao_cap()\n",
    "pc.compute_projected_cap()"
   ]
  },
  {
   "cell_type": "code",
   "execution_count": null,
   "metadata": {},
   "outputs": [],
   "source": [
    "# Spin traced representation\n",
    "f = h5py.File('anion_ms.rassi.h5', 'r')\n",
    "arr = f[\"SFS_TRANSITION_DENSITIES\"]\n",
    "pc = pycap.Projected_CAP(s,cap_dict,10,\"openmolcas\")\n",
    "for i in range(0,10):\n",
    "    for j in range(i,10):\n",
    "        arr1 = np.reshape(arr[i][j],(119,119))\n",
    "        pc.add_tdm(arr1,i,j,\"openmolcas\",\"anion_ms.rassi.h5\")\n",
    "        if i!=j:\n",
    "            pc.add_tdm(arr1,j,i,\"openmolcas\",\"anion_ms.rassi.h5\")\n",
    "pc.compute_ao_cap()\n",
    "pc.compute_projected_cap()"
   ]
  },
  {
   "cell_type": "code",
   "execution_count": null,
   "metadata": {},
   "outputs": [],
   "source": [
    "import os\n",
    "import functools\n",
    "from numpy import linalg as LA\n",
    "import matplotlib.pyplot as plt\n",
    "caspt2_energy = -109.35042571\n",
    "E_0 = caspt2_energy\n",
    "au2eV= 27.2113961\n",
    "@functools.total_ordering\n",
    "class root():\n",
    "    def __init__(self, energy, eta):\n",
    "        self.eta = eta\n",
    "        self.energy = energy\n",
    "    \n",
    "    def __lt__(self, other):\n",
    "        return self.eta < other.eta\n",
    "    \n",
    "    def __eq__(self, other):\n",
    "        return self.eta == other.eta and self.eta == other.eta\n",
    "\n",
    "class trajectory():\n",
    "    def __init__(self,states,guess):\n",
    "        min=500\n",
    "        cur=-1\n",
    "        for st in states:\n",
    "            if np.absolute(st.energy-guess)<min:\n",
    "                cur=st\n",
    "                min=np.absolute(st.energy-guess)\n",
    "        self.last=cur\n",
    "        self.states=[cur]\n",
    "    \n",
    "    def add_state(self,states):\n",
    "        min=500\n",
    "        cur=-1\n",
    "        for st in states:\n",
    "            if np.absolute(st.energy-guess)<min:\n",
    "                cur=st\n",
    "                min=np.absolute(st.energy-self.last.energy)\n",
    "        self.states.append(cur)\n",
    "    \n",
    "    def get_corrections(self):\n",
    "        energies=[]\n",
    "        etas=[]\n",
    "        for st in self.states:\n",
    "            energies.append(st.energy)\n",
    "            etas.append(st.eta)\n",
    "        derivs=list(np.gradient(energies)/np.gradient(etas))\n",
    "        for i in range(0,len(self.states)):\n",
    "            self.states[i].corr_energy=self.states[i].energy-derivs[i]*self.states[i].eta"
   ]
  },
  {
   "cell_type": "code",
   "execution_count": null,
   "metadata": {},
   "outputs": [],
   "source": [
    "H_0 = h0\n",
    "cap_mat = mat\n",
    "guess=3\n",
    "eta_list = np.linspace(0,3000,301)\n",
    "eta_list = eta_list * 1E-5\n",
    "all_roots=[]\n",
    "for i in range(0,len(eta_list)):\n",
    "    eta=eta_list[i]\n",
    "    roots=[]\n",
    "    fullH = H_0 +1.0j * eta * cap_mat\n",
    "    eigv,eigvc=LA.eig(fullH)\n",
    "    for eig in eigv:\n",
    "        E = (eig - E_0) * au2eV\n",
    "        roots.append(root(E,eta))\n",
    "        all_roots.append(root(E,eta))\n",
    "    if i==0:\n",
    "        traj=trajectory(roots,guess)\n",
    "    else:\n",
    "        traj.add_state(roots)\n",
    "re_traj = []\n",
    "im_traj = []\n",
    "energies=[]\n",
    "for root in all_roots:\n",
    "    re_traj.append(np.real(root.energy))\n",
    "    im_traj.append(np.imag(root.energy))\n",
    "    energies.append(root.energy)\n",
    "plt.plot(re_traj,im_traj,'ro')\n",
    "plt.show()"
   ]
  },
  {
   "cell_type": "code",
   "execution_count": null,
   "metadata": {},
   "outputs": [],
   "source": [
    "#plot trajectories of interest\n",
    "traj.get_corrections()\n",
    "re_traj = []\n",
    "im_traj = []\n",
    "corr_re=[]\n",
    "corr_im=[]\n",
    "uc_energies=[]\n",
    "corr_energies=[]\n",
    "for root in traj.states:\n",
    "    uc_energies.append(root.energy)\n",
    "    re_traj.append(np.real(root.energy))\n",
    "    im_traj.append(np.imag(root.energy))\n",
    "    corr_re.append(np.real(root.corr_energy))\n",
    "    corr_im.append(np.imag(root.corr_energy))\n",
    "    corr_energies.append(root.corr_energy)\n",
    "plt.plot(re_traj,im_traj,'-ro')\n",
    "plt.plot(corr_re,corr_im,'-bo')\n",
    "plt.show()"
   ]
  }
 ],
 "metadata": {
  "kernelspec": {
   "display_name": "Python 3",
   "language": "python",
   "name": "python3"
  },
  "language_info": {
   "codemirror_mode": {
    "name": "ipython",
    "version": 3
   },
   "file_extension": ".py",
   "mimetype": "text/x-python",
   "name": "python",
   "nbconvert_exporter": "python",
   "pygments_lexer": "ipython3",
   "version": "3.7.3"
  }
 },
 "nbformat": 4,
 "nbformat_minor": 4
}
