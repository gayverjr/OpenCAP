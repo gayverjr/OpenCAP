{
 "cells": [
  {
   "cell_type": "markdown",
   "metadata": {},
   "source": [
    "# PyOpenCAP tutorial\n",
    "In this tutorial we, post process results from an XMS-CASPT2 calculation from OpenMolcas to perform CAP/XMS-CASPT2 calculations on the pi* resonance of N2-."
   ]
  },
  {
   "cell_type": "code",
   "execution_count": 8,
   "metadata": {},
   "outputs": [],
   "source": [
    "import pyopencap\n",
    "import numpy as np\n",
    "from pandas import DataFrame\n",
    "import h5py"
   ]
  },
  {
   "cell_type": "markdown",
   "metadata": {},
   "source": [
    "# Constructing the system object\n",
    "The System object of PyOpenCAP contains the geometry and basis set information, as well as the overlap matrix. The constructor exposed to Python takes in a Python dictionary as an argument, with key/value pairs which mimic the input file format of the command line version. There are three equivalent ways of specifying the geometry and basis set: rassi_h5, molden, and inline. Here, we’ll use the rassi_h5 file."
   ]
  },
  {
   "cell_type": "code",
   "execution_count": 9,
   "metadata": {},
   "outputs": [
    {
     "name": "stdout",
     "output_type": "stream",
     "text": [
      "Number of basis functions:119\n"
     ]
    },
    {
     "data": {
      "text/plain": [
       "(119, 119)"
      ]
     },
     "execution_count": 9,
     "metadata": {},
     "output_type": "execute_result"
    }
   ],
   "source": [
    "RASSI_FILE = \"../../opencap/nosymm.rassi.h5\"\n",
    "OUTPUT_FILE = \"../../opencap/nosymm.out\"\n",
    "sys_dict = {\"molecule\": \"molcas_rassi\",\"basis_file\": RASSI_FILE}\n",
    "s = pyopencap.System(sys_dict)\n",
    "smat = s.get_overlap_mat()\n",
    "np.shape(smat)"
   ]
  },
  {
   "cell_type": "markdown",
   "metadata": {},
   "source": [
    "# Constructing the Projected_CAP object\n",
    "The CAP matrix is computed by the “Projected_CAP” object. The constructor for the Projected_CAP object requires a System object, a dictionary containing the CAP parameters, the number of states (10 in this case), and finally the string “openmolcas”, which denotes the ordering of the atomic orbital basis set."
   ]
  },
  {
   "cell_type": "code",
   "execution_count": 10,
   "metadata": {},
   "outputs": [],
   "source": [
    "cap_dict = {\"cap_type\": \"box\",\n",
    "        \"cap_x\":\"2.76\",\n",
    "        \"cap_y\":\"2.76\",\n",
    "        \"cap_z\":\"4.88\",\n",
    "        \"Radial_precision\": \"14\",\n",
    "        \"angular_points\": \"110\"}\n",
    "pc = pyopencap.Projected_CAP(s,cap_dict,10,\"openmolcas\")"
   ]
  },
  {
   "cell_type": "markdown",
   "metadata": {},
   "source": [
    "# Parsing electronic structure data from file\n",
    "\n",
    "The “read_data” function of the Projected_CAP object can read in the effective Hamiltonian and densities in one-shot when passed a Python dictionary with the right keywords. For now, we’ll retrieve the effective Hamiltonian and store it as h0 for later use."
   ]
  },
  {
   "cell_type": "code",
   "execution_count": 11,
   "metadata": {},
   "outputs": [
    {
     "name": "stdout",
     "output_type": "stream",
     "text": [
      "Successfully read in zeroth order Hamiltonian from file:../../opencap/nosymm.out\n",
      "Successfully read in densities from file:../../opencap/nosymm.rassi.h5\n",
      "Verified overlap matrix.\n"
     ]
    }
   ],
   "source": [
    "es_dict = {\"method\" : \"ms-caspt2\",\n",
    "       \"molcas_output\":OUTPUT_FILE,\n",
    "       \"rassi_h5\":RASSI_FILE}\n",
    "pc.read_data(es_dict)\n",
    "h0 = pc.get_H()"
   ]
  },
  {
   "cell_type": "markdown",
   "metadata": {},
   "source": [
    "# Passing densities in RAM\n",
    "\n",
    "Alternatively, one can load in the densities one at a time using the “add_tdms or add_tdm” functions. We load in the matrices from rassi.h5 using the h5py package, and then pass them as numpy arrays to the Projected_CAP object. This can be particularly useful if we want to exclude some of the states from the Projected CAP calculation. In this example, the CAP matrix is made to be symmetric."
   ]
  },
  {
   "cell_type": "code",
   "execution_count": 14,
   "metadata": {},
   "outputs": [],
   "source": [
    "f = h5py.File(RASSI_FILE, 'r')\n",
    "dms = f[\"SFS_TRANSITION_DENSITIES\"]\n",
    "pc = pyopencap.Projected_CAP(s,cap_dict,10,\"openmolcas\")\n",
    "for i in range(0,10):\n",
    "    for j in range(i,10):\n",
    "        dm_alpha = 0.5*np.reshape(dms[i][j],(119,119))\n",
    "        dm_beta =  0.5*np.reshape(dms[i][j],(119,119))\n",
    "        pc.add_tdms(dm_alpha,dm_beta,i,j,\"openmolcas\",RASSI_FILE)\n",
    "        if i!=j:\n",
    "            pc.add_tdms(dm_alpha,dm_beta,j,i,\"openmolcas\",RASSI_FILE)"
   ]
  },
  {
   "cell_type": "markdown",
   "metadata": {},
   "source": [
    "Once all of the densities are loaded, the CAP matrix is computed using the “compute_projected_cap” function. The matrix can be retrieved using the “get_projected_cap” function."
   ]
  },
  {
   "cell_type": "code",
   "execution_count": 15,
   "metadata": {},
   "outputs": [
    {
     "name": "stdout",
     "output_type": "stream",
     "text": [
      "Calculating CAP matrix in AO basis...\n",
      "Integration time:2.074248\n"
     ]
    }
   ],
   "source": [
    "pc.compute_projected_cap()\n",
    "W_mat=pc.get_projected_cap()"
   ]
  }
 ],
 "metadata": {
  "kernelspec": {
   "display_name": "Python 3",
   "language": "python",
   "name": "python3"
  },
  "language_info": {
   "codemirror_mode": {
    "name": "ipython",
    "version": 3
   },
   "file_extension": ".py",
   "mimetype": "text/x-python",
   "name": "python",
   "nbconvert_exporter": "python",
   "pygments_lexer": "ipython3",
   "version": "3.7.3"
  }
 },
 "nbformat": 4,
 "nbformat_minor": 4
}
